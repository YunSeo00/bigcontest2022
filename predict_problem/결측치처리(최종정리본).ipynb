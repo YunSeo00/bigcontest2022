{
 "cells": [
  {
   "cell_type": "code",
   "execution_count": 1,
   "id": "9af4c2f6",
   "metadata": {},
   "outputs": [],
   "source": [
    "import pandas as pd\n",
    "import numpy as np\n",
    "import gc\n",
    "import pickle\n",
    "import time\n",
    "import datetime\n",
    "import copy\n",
    "\n",
    "\n",
    "from sklearn.metrics import f1_score\n",
    "from sklearn.metrics import confusion_matrix\n",
    "from sklearn.ensemble import ExtraTreesRegressor\n",
    "from sklearn.experimental import enable_iterative_imputer\n",
    "from sklearn.impute import IterativeImputer\n",
    "from sklearn.ensemble import RandomForestClassifier\n",
    "from sklearn.linear_model import BayesianRidge\n",
    "from sklearn.linear_model import LogisticRegression\n",
    "from sklearn.linear_model import LinearRegression"
   ]
  },
  {
   "cell_type": "code",
   "execution_count": 2,
   "id": "9c086f66",
   "metadata": {},
   "outputs": [],
   "source": [
    "# user_spec, loan_result 테이블 불러오기 및 lonapply_insert_time type 변경\n",
    "user_spec = pd.read_csv('./user_spec.csv')\n",
    "loan_result = pd.read_csv('./loan_result.csv')\n",
    "loan_result['loanapply_insert_time'] = pd.to_datetime(loan_result['loanapply_insert_time'])"
   ]
  },
  {
   "cell_type": "markdown",
   "id": "a42a8309",
   "metadata": {},
   "source": [
    "#### gender, age, amt, credit_score, employment_period 변수 제외한 결측치 처리"
   ]
  },
  {
   "cell_type": "code",
   "execution_count": 3,
   "id": "333cc0ed",
   "metadata": {},
   "outputs": [],
   "source": [
    "def cem_var_preproc(x):\n",
    "    if len(str(x)) == 10:\n",
    "        return str(x)[:6] + '01'\n",
    "    elif len(str(x)) == 8:\n",
    "        return str(x)[:6] + '01'\n",
    "    elif str(x) == 'nan':\n",
    "        return np.nan\n",
    "    else: \n",
    "        print(x)\n",
    "        return x\n",
    "\n",
    "# datetime 형변환\n",
    "user_spec['company_enter_month'] = pd.to_datetime(user_spec['company_enter_month'].apply(cem_var_preproc))\n",
    "user_spec['insert_time'] = pd.to_datetime(user_spec.insert_time)\n",
    "\n",
    "# employment_period, age 변수 생성\n",
    "user_spec['employment_period'] = (user_spec['insert_time'] - user_spec['company_enter_month']).dt.days\n",
    "user_spec['age'] = user_spec['insert_time'].dt.year - user_spec['birth_year']\n",
    "\n",
    "# company_enter_month, birth_year drop\n",
    "user_spec = user_spec.drop(columns = ['company_enter_month', 'birth_year'])"
   ]
  },
  {
   "cell_type": "code",
   "execution_count": 4,
   "id": "6d6e51a6",
   "metadata": {},
   "outputs": [],
   "source": [
    "# employment_period가 음수인 사람 같은 user_id의 값으로 대체 - 잘못 입력한 값\n",
    "row_idx = np.where(user_spec['employment_period'] < 0)[0]\n",
    "col_idx = np.where(user_spec.columns == 'employment_period')[0][0]\n",
    "user_spec.iloc[row_idx, col_idx] = 136"
   ]
  },
  {
   "cell_type": "code",
   "execution_count": 5,
   "id": "facbb44f",
   "metadata": {},
   "outputs": [
    {
     "name": "stdout",
     "output_type": "stream",
     "text": [
      "19세 미만 변수 삭제 전 min / max:  14.0 95.0\n",
      "19세 미만 변수 삭제 후min / max:  19.0 95.0\n"
     ]
    }
   ],
   "source": [
    "# 19세 미만 변수 삭제\n",
    "print(\"19세 미만 변수 삭제 전 min / max: \", user_spec.age.min(), user_spec.age.max())\n",
    "user_spec = pd.concat([user_spec[user_spec.age >= 19], user_spec[user_spec.age.isna()]])\n",
    "print(\"19세 미만 변수 삭제 후min / max: \", user_spec.age.min(), user_spec.age.max())"
   ]
  },
  {
   "cell_type": "code",
   "execution_count": 6,
   "id": "4304c47d",
   "metadata": {},
   "outputs": [],
   "source": [
    "# income_type, employment_type, houseown_type, desired_amount, purpose nan인 데이터 삭제\n",
    "user_spec = user_spec[~user_spec.income_type.isna()]"
   ]
  },
  {
   "cell_type": "code",
   "execution_count": 7,
   "id": "b34993e2",
   "metadata": {},
   "outputs": [],
   "source": [
    "# amt와 cnt가 모두 nan이면 0으로 채운다.\n",
    "amt_idx = np.where(user_spec.columns == 'existing_loan_amt')[0][0]\n",
    "cnt_idx = np.where(user_spec.columns == 'existing_loan_cnt')[0][0]\n",
    "nan_idx = np.where((user_spec.existing_loan_cnt.isna()) & (user_spec.existing_loan_amt.isna()))[0]\n",
    "user_spec.iloc[nan_idx,amt_idx] = 0\n",
    "user_spec.iloc[nan_idx,cnt_idx] = 0"
   ]
  },
  {
   "cell_type": "code",
   "execution_count": 8,
   "id": "62ab48b7",
   "metadata": {},
   "outputs": [],
   "source": [
    "# 개인회생 0, 1 조합 삭제\n",
    "user_spec = user_spec[~((user_spec.personal_rehabilitation_yn == 0)&(user_spec.personal_rehabilitation_complete_yn == 1))]"
   ]
  },
  {
   "cell_type": "code",
   "execution_count": 9,
   "id": "9b9e8792",
   "metadata": {},
   "outputs": [],
   "source": [
    "# 개인회생 nan, nan인 데이터 0으로 처리\n",
    "yn_idx = np.where(user_spec.columns == 'personal_rehabilitation_yn')[0][0]\n",
    "cyn_idx = np.where(user_spec.columns == 'personal_rehabilitation_complete_yn')[0][0]\n",
    "nan_idx = np.where(user_spec.personal_rehabilitation_yn.isna())[0]\n",
    "user_spec.iloc[nan_idx,yn_idx] = 0\n",
    "user_spec.iloc[nan_idx,cyn_idx] = 0 "
   ]
  },
  {
   "cell_type": "code",
   "execution_count": 10,
   "id": "27fc1d8a",
   "metadata": {},
   "outputs": [],
   "source": [
    "# 개인회생 0, nan인 데이터 0으로 처리\n",
    "cyn_idx = np.where(user_spec.columns == 'personal_rehabilitation_complete_yn')[0][0]\n",
    "nan_idx = np.where(user_spec.personal_rehabilitation_complete_yn.isna())[0]\n",
    "user_spec.iloc[nan_idx,cyn_idx] = 0 "
   ]
  },
  {
   "cell_type": "code",
   "execution_count": 11,
   "id": "eb064c39",
   "metadata": {},
   "outputs": [
    {
     "data": {
      "text/html": [
       "<div>\n",
       "<style scoped>\n",
       "    .dataframe tbody tr th:only-of-type {\n",
       "        vertical-align: middle;\n",
       "    }\n",
       "\n",
       "    .dataframe tbody tr th {\n",
       "        vertical-align: top;\n",
       "    }\n",
       "\n",
       "    .dataframe thead th {\n",
       "        text-align: right;\n",
       "    }\n",
       "</style>\n",
       "<table border=\"1\" class=\"dataframe\">\n",
       "  <thead>\n",
       "    <tr style=\"text-align: right;\">\n",
       "      <th></th>\n",
       "      <th>application_id</th>\n",
       "      <th>user_id</th>\n",
       "      <th>gender</th>\n",
       "      <th>insert_time</th>\n",
       "      <th>credit_score</th>\n",
       "      <th>yearly_income</th>\n",
       "      <th>income_type</th>\n",
       "      <th>employment_type</th>\n",
       "      <th>houseown_type</th>\n",
       "      <th>desired_amount</th>\n",
       "      <th>purpose</th>\n",
       "      <th>personal_rehabilitation_yn</th>\n",
       "      <th>personal_rehabilitation_complete_yn</th>\n",
       "      <th>existing_loan_cnt</th>\n",
       "      <th>existing_loan_amt</th>\n",
       "      <th>employment_period</th>\n",
       "      <th>age</th>\n",
       "    </tr>\n",
       "  </thead>\n",
       "  <tbody>\n",
       "    <tr>\n",
       "      <th>165422</th>\n",
       "      <td>1026915</td>\n",
       "      <td>861363</td>\n",
       "      <td>1.0</td>\n",
       "      <td>2022-06-30 21:11:51</td>\n",
       "      <td>NaN</td>\n",
       "      <td>NaN</td>\n",
       "      <td>OTHERINCOME</td>\n",
       "      <td>기타</td>\n",
       "      <td>전월세</td>\n",
       "      <td>5000000.0</td>\n",
       "      <td>생활비</td>\n",
       "      <td>0.0</td>\n",
       "      <td>0.0</td>\n",
       "      <td>0.0</td>\n",
       "      <td>0.0</td>\n",
       "      <td>NaN</td>\n",
       "      <td>27.0</td>\n",
       "    </tr>\n",
       "    <tr>\n",
       "      <th>233316</th>\n",
       "      <td>2045613</td>\n",
       "      <td>702899</td>\n",
       "      <td>1.0</td>\n",
       "      <td>2022-06-30 18:37:04</td>\n",
       "      <td>520.0</td>\n",
       "      <td>NaN</td>\n",
       "      <td>FREELANCER</td>\n",
       "      <td>기타</td>\n",
       "      <td>전월세</td>\n",
       "      <td>5000000.0</td>\n",
       "      <td>전월세보증금</td>\n",
       "      <td>0.0</td>\n",
       "      <td>0.0</td>\n",
       "      <td>1.0</td>\n",
       "      <td>1000000.0</td>\n",
       "      <td>29.0</td>\n",
       "      <td>27.0</td>\n",
       "    </tr>\n",
       "    <tr>\n",
       "      <th>597591</th>\n",
       "      <td>391560</td>\n",
       "      <td>329226</td>\n",
       "      <td>0.0</td>\n",
       "      <td>2022-06-30 19:27:28</td>\n",
       "      <td>590.0</td>\n",
       "      <td>NaN</td>\n",
       "      <td>OTHERINCOME</td>\n",
       "      <td>기타</td>\n",
       "      <td>전월세</td>\n",
       "      <td>20000000.0</td>\n",
       "      <td>생활비</td>\n",
       "      <td>0.0</td>\n",
       "      <td>0.0</td>\n",
       "      <td>9.0</td>\n",
       "      <td>27000000.0</td>\n",
       "      <td>NaN</td>\n",
       "      <td>26.0</td>\n",
       "    </tr>\n",
       "    <tr>\n",
       "      <th>597613</th>\n",
       "      <td>341149</td>\n",
       "      <td>670502</td>\n",
       "      <td>1.0</td>\n",
       "      <td>2022-06-30 21:32:18</td>\n",
       "      <td>930.0</td>\n",
       "      <td>NaN</td>\n",
       "      <td>OTHERINCOME</td>\n",
       "      <td>기타</td>\n",
       "      <td>기타가족소유</td>\n",
       "      <td>6000000.0</td>\n",
       "      <td>사업자금</td>\n",
       "      <td>0.0</td>\n",
       "      <td>0.0</td>\n",
       "      <td>1.0</td>\n",
       "      <td>3000000.0</td>\n",
       "      <td>NaN</td>\n",
       "      <td>41.0</td>\n",
       "    </tr>\n",
       "    <tr>\n",
       "      <th>971960</th>\n",
       "      <td>1330905</td>\n",
       "      <td>771592</td>\n",
       "      <td>1.0</td>\n",
       "      <td>2022-06-30 18:57:05</td>\n",
       "      <td>750.0</td>\n",
       "      <td>NaN</td>\n",
       "      <td>OTHERINCOME</td>\n",
       "      <td>기타</td>\n",
       "      <td>자가</td>\n",
       "      <td>3000000.0</td>\n",
       "      <td>생활비</td>\n",
       "      <td>0.0</td>\n",
       "      <td>0.0</td>\n",
       "      <td>1.0</td>\n",
       "      <td>3000000.0</td>\n",
       "      <td>NaN</td>\n",
       "      <td>19.0</td>\n",
       "    </tr>\n",
       "  </tbody>\n",
       "</table>\n",
       "</div>"
      ],
      "text/plain": [
       "        application_id  user_id  gender         insert_time  credit_score  \\\n",
       "165422         1026915   861363     1.0 2022-06-30 21:11:51           NaN   \n",
       "233316         2045613   702899     1.0 2022-06-30 18:37:04         520.0   \n",
       "597591          391560   329226     0.0 2022-06-30 19:27:28         590.0   \n",
       "597613          341149   670502     1.0 2022-06-30 21:32:18         930.0   \n",
       "971960         1330905   771592     1.0 2022-06-30 18:57:05         750.0   \n",
       "\n",
       "        yearly_income  income_type employment_type houseown_type  \\\n",
       "165422            NaN  OTHERINCOME              기타           전월세   \n",
       "233316            NaN   FREELANCER              기타           전월세   \n",
       "597591            NaN  OTHERINCOME              기타           전월세   \n",
       "597613            NaN  OTHERINCOME              기타        기타가족소유   \n",
       "971960            NaN  OTHERINCOME              기타            자가   \n",
       "\n",
       "        desired_amount purpose  personal_rehabilitation_yn  \\\n",
       "165422       5000000.0     생활비                         0.0   \n",
       "233316       5000000.0  전월세보증금                         0.0   \n",
       "597591      20000000.0     생활비                         0.0   \n",
       "597613       6000000.0    사업자금                         0.0   \n",
       "971960       3000000.0     생활비                         0.0   \n",
       "\n",
       "        personal_rehabilitation_complete_yn  existing_loan_cnt  \\\n",
       "165422                                  0.0                0.0   \n",
       "233316                                  0.0                1.0   \n",
       "597591                                  0.0                9.0   \n",
       "597613                                  0.0                1.0   \n",
       "971960                                  0.0                1.0   \n",
       "\n",
       "        existing_loan_amt  employment_period   age  \n",
       "165422                0.0                NaN  27.0  \n",
       "233316          1000000.0               29.0  27.0  \n",
       "597591         27000000.0                NaN  26.0  \n",
       "597613          3000000.0                NaN  41.0  \n",
       "971960          3000000.0                NaN  19.0  "
      ]
     },
     "execution_count": 11,
     "metadata": {},
     "output_type": "execute_result"
    }
   ],
   "source": [
    "# yearly_income 결측치 데이터 목록\n",
    "user_spec[user_spec.yearly_income.isna()]"
   ]
  },
  {
   "cell_type": "code",
   "execution_count": 12,
   "id": "5d4ece19",
   "metadata": {},
   "outputs": [],
   "source": [
    "# 같은 user_id 정보가 없는 데이터 (1개) 삭제\n",
    "user_spec = user_spec[~(user_spec.user_id == 861363)]"
   ]
  },
  {
   "cell_type": "code",
   "execution_count": 13,
   "id": "7ed9b4c5",
   "metadata": {},
   "outputs": [],
   "source": [
    "# 같은 user_id 정보가 있는 데이터 mean()으로 대체\n",
    "col_idx = np.where(user_spec.columns == 'yearly_income')[0][0]\n",
    "# 1\n",
    "row_idx = np.where(user_spec.application_id == 2045613)[0]\n",
    "user_spec.iloc[row_idx, col_idx] = user_spec[user_spec.user_id == 702899].yearly_income.mean()\n",
    "# 2\n",
    "row_idx = np.where(user_spec.application_id == 391560)[0]\n",
    "user_spec.iloc[row_idx, col_idx] = user_spec[user_spec.user_id == 329226].yearly_income.mean()\n",
    "# 3\n",
    "row_idx = np.where(user_spec.application_id == 341149)[0]\n",
    "user_spec.iloc[row_idx, col_idx] = user_spec[user_spec.user_id == 670502].yearly_income.mean()\n",
    "# 4\n",
    "row_idx = np.where(user_spec.application_id == 1330905)[0]\n",
    "user_spec.iloc[row_idx, col_idx] = user_spec[user_spec.user_id == 771592].yearly_income.mean()"
   ]
  },
  {
   "cell_type": "code",
   "execution_count": 14,
   "id": "925e6b2f",
   "metadata": {},
   "outputs": [
    {
     "data": {
      "text/plain": [
       "application_id                              0\n",
       "user_id                                     0\n",
       "gender                                  12959\n",
       "insert_time                                 0\n",
       "credit_score                           105014\n",
       "yearly_income                               0\n",
       "income_type                                 0\n",
       "employment_type                             0\n",
       "houseown_type                               0\n",
       "desired_amount                              0\n",
       "purpose                                     0\n",
       "personal_rehabilitation_yn                  0\n",
       "personal_rehabilitation_complete_yn         0\n",
       "existing_loan_cnt                           0\n",
       "existing_loan_amt                      115148\n",
       "employment_period                      171578\n",
       "age                                     12959\n",
       "dtype: int64"
      ]
     },
     "execution_count": 14,
     "metadata": {},
     "output_type": "execute_result"
    }
   ],
   "source": [
    "user_spec.isna().sum()"
   ]
  },
  {
   "cell_type": "markdown",
   "id": "19ccc300",
   "metadata": {},
   "source": [
    "- LIVING -> 생활비\n",
    "- ETC -> 기타\n",
    "- HOUSEDEPOSIT -> 전월세보증금\n",
    "- BUYHOUSE -> 주택구입\n",
    "- BUYCAR -> 자동차구입\n",
    "- INVEST -> 투자\n",
    "- BUSINESS -> 사업자금\n",
    "- SWITCHLOAN -> 대환대출"
   ]
  },
  {
   "cell_type": "code",
   "execution_count": 15,
   "id": "f0bda592",
   "metadata": {},
   "outputs": [
    {
     "data": {
      "text/plain": [
       "array(['기타', '대환대출', '생활비', '사업자금', '주택구입', '전월세보증금', '투자', 'LIVING',\n",
       "       'SWITCHLOAN', 'ETC', 'INVEST', '자동차구입', 'BUSINESS', 'BUYCAR',\n",
       "       'HOUSEDEPOSIT', 'BUYHOUSE'], dtype=object)"
      ]
     },
     "execution_count": 15,
     "metadata": {},
     "output_type": "execute_result"
    }
   ],
   "source": [
    "# purpose 영어, 한글 통일\n",
    "user_spec.purpose.unique()"
   ]
  },
  {
   "cell_type": "code",
   "execution_count": 16,
   "id": "b3a92e76",
   "metadata": {},
   "outputs": [
    {
     "data": {
      "text/plain": [
       "array(['기타', '대환대출', '생활비', '사업자금', '주택구입', '전월세보증금', '투자', '자동차구입'],\n",
       "      dtype=object)"
      ]
     },
     "execution_count": 16,
     "metadata": {},
     "output_type": "execute_result"
    }
   ],
   "source": [
    "user_spec.purpose = user_spec.purpose.replace(['LIVING', 'ETC', 'HOUSEDEPOSIT', 'BUYHOUSE', 'BUYCAR', 'INVEST', 'BUSINESS', 'SWITCHLOAN'],\n",
    "                  ['생활비', '기타', '전월세보증금', '주택구입', '자동차구입', '투자', '사업자금', '대환대출'])\n",
    "user_spec.purpose.unique()"
   ]
  },
  {
   "cell_type": "code",
   "execution_count": 17,
   "id": "fad3e9c0",
   "metadata": {},
   "outputs": [],
   "source": [
    "# bank_id == 16 인 데이터 삭제\n",
    "loan_result = loan_result[~(loan_result.bank_id == 16)]"
   ]
  },
  {
   "cell_type": "code",
   "execution_count": 18,
   "id": "150a51e8",
   "metadata": {},
   "outputs": [
    {
     "name": "stdout",
     "output_type": "stream",
     "text": [
      "(13527229, 23)\n",
      "application_id                               0\n",
      "loanapply_insert_time                        0\n",
      "bank_id                                      0\n",
      "product_id                                   0\n",
      "loan_limit                                7382\n",
      "loan_rate                                 7382\n",
      "is_applied                             3257239\n",
      "user_id                                      0\n",
      "gender                                  128096\n",
      "insert_time                                  0\n",
      "credit_score                           1509274\n",
      "yearly_income                                0\n",
      "income_type                                  0\n",
      "employment_type                              0\n",
      "houseown_type                                0\n",
      "desired_amount                               0\n",
      "purpose                                      0\n",
      "personal_rehabilitation_yn                   0\n",
      "personal_rehabilitation_complete_yn          0\n",
      "existing_loan_cnt                            0\n",
      "existing_loan_amt                      1204443\n",
      "employment_period                       400337\n",
      "age                                     128096\n",
      "dtype: int64\n"
     ]
    },
    {
     "data": {
      "text/html": [
       "<div>\n",
       "<style scoped>\n",
       "    .dataframe tbody tr th:only-of-type {\n",
       "        vertical-align: middle;\n",
       "    }\n",
       "\n",
       "    .dataframe tbody tr th {\n",
       "        vertical-align: top;\n",
       "    }\n",
       "\n",
       "    .dataframe thead th {\n",
       "        text-align: right;\n",
       "    }\n",
       "</style>\n",
       "<table border=\"1\" class=\"dataframe\">\n",
       "  <thead>\n",
       "    <tr style=\"text-align: right;\">\n",
       "      <th></th>\n",
       "      <th>application_id</th>\n",
       "      <th>loanapply_insert_time</th>\n",
       "      <th>bank_id</th>\n",
       "      <th>product_id</th>\n",
       "      <th>loan_limit</th>\n",
       "      <th>loan_rate</th>\n",
       "      <th>is_applied</th>\n",
       "      <th>user_id</th>\n",
       "      <th>gender</th>\n",
       "      <th>insert_time</th>\n",
       "      <th>...</th>\n",
       "      <th>employment_type</th>\n",
       "      <th>houseown_type</th>\n",
       "      <th>desired_amount</th>\n",
       "      <th>purpose</th>\n",
       "      <th>personal_rehabilitation_yn</th>\n",
       "      <th>personal_rehabilitation_complete_yn</th>\n",
       "      <th>existing_loan_cnt</th>\n",
       "      <th>existing_loan_amt</th>\n",
       "      <th>employment_period</th>\n",
       "      <th>age</th>\n",
       "    </tr>\n",
       "  </thead>\n",
       "  <tbody>\n",
       "    <tr>\n",
       "      <th>0</th>\n",
       "      <td>1748340</td>\n",
       "      <td>2022-06-07 13:05:41</td>\n",
       "      <td>7</td>\n",
       "      <td>191</td>\n",
       "      <td>42000000.0</td>\n",
       "      <td>13.6</td>\n",
       "      <td>NaN</td>\n",
       "      <td>430982</td>\n",
       "      <td>1.0</td>\n",
       "      <td>2022-06-07 13:05:39</td>\n",
       "      <td>...</td>\n",
       "      <td>정규직</td>\n",
       "      <td>자가</td>\n",
       "      <td>25000000.0</td>\n",
       "      <td>대환대출</td>\n",
       "      <td>0.0</td>\n",
       "      <td>0.0</td>\n",
       "      <td>2.0</td>\n",
       "      <td>15000000.0</td>\n",
       "      <td>126.0</td>\n",
       "      <td>26.0</td>\n",
       "    </tr>\n",
       "    <tr>\n",
       "      <th>1</th>\n",
       "      <td>1748340</td>\n",
       "      <td>2022-06-07 13:05:41</td>\n",
       "      <td>25</td>\n",
       "      <td>169</td>\n",
       "      <td>24000000.0</td>\n",
       "      <td>17.9</td>\n",
       "      <td>NaN</td>\n",
       "      <td>430982</td>\n",
       "      <td>1.0</td>\n",
       "      <td>2022-06-07 13:05:39</td>\n",
       "      <td>...</td>\n",
       "      <td>정규직</td>\n",
       "      <td>자가</td>\n",
       "      <td>25000000.0</td>\n",
       "      <td>대환대출</td>\n",
       "      <td>0.0</td>\n",
       "      <td>0.0</td>\n",
       "      <td>2.0</td>\n",
       "      <td>15000000.0</td>\n",
       "      <td>126.0</td>\n",
       "      <td>26.0</td>\n",
       "    </tr>\n",
       "    <tr>\n",
       "      <th>2</th>\n",
       "      <td>1748340</td>\n",
       "      <td>2022-06-07 13:05:41</td>\n",
       "      <td>2</td>\n",
       "      <td>7</td>\n",
       "      <td>24000000.0</td>\n",
       "      <td>18.5</td>\n",
       "      <td>NaN</td>\n",
       "      <td>430982</td>\n",
       "      <td>1.0</td>\n",
       "      <td>2022-06-07 13:05:39</td>\n",
       "      <td>...</td>\n",
       "      <td>정규직</td>\n",
       "      <td>자가</td>\n",
       "      <td>25000000.0</td>\n",
       "      <td>대환대출</td>\n",
       "      <td>0.0</td>\n",
       "      <td>0.0</td>\n",
       "      <td>2.0</td>\n",
       "      <td>15000000.0</td>\n",
       "      <td>126.0</td>\n",
       "      <td>26.0</td>\n",
       "    </tr>\n",
       "    <tr>\n",
       "      <th>3</th>\n",
       "      <td>1748340</td>\n",
       "      <td>2022-06-07 13:05:41</td>\n",
       "      <td>4</td>\n",
       "      <td>268</td>\n",
       "      <td>29000000.0</td>\n",
       "      <td>10.8</td>\n",
       "      <td>NaN</td>\n",
       "      <td>430982</td>\n",
       "      <td>1.0</td>\n",
       "      <td>2022-06-07 13:05:39</td>\n",
       "      <td>...</td>\n",
       "      <td>정규직</td>\n",
       "      <td>자가</td>\n",
       "      <td>25000000.0</td>\n",
       "      <td>대환대출</td>\n",
       "      <td>0.0</td>\n",
       "      <td>0.0</td>\n",
       "      <td>2.0</td>\n",
       "      <td>15000000.0</td>\n",
       "      <td>126.0</td>\n",
       "      <td>26.0</td>\n",
       "    </tr>\n",
       "    <tr>\n",
       "      <th>4</th>\n",
       "      <td>1748340</td>\n",
       "      <td>2022-06-07 13:05:41</td>\n",
       "      <td>11</td>\n",
       "      <td>118</td>\n",
       "      <td>5000000.0</td>\n",
       "      <td>16.4</td>\n",
       "      <td>NaN</td>\n",
       "      <td>430982</td>\n",
       "      <td>1.0</td>\n",
       "      <td>2022-06-07 13:05:39</td>\n",
       "      <td>...</td>\n",
       "      <td>정규직</td>\n",
       "      <td>자가</td>\n",
       "      <td>25000000.0</td>\n",
       "      <td>대환대출</td>\n",
       "      <td>0.0</td>\n",
       "      <td>0.0</td>\n",
       "      <td>2.0</td>\n",
       "      <td>15000000.0</td>\n",
       "      <td>126.0</td>\n",
       "      <td>26.0</td>\n",
       "    </tr>\n",
       "  </tbody>\n",
       "</table>\n",
       "<p>5 rows × 23 columns</p>\n",
       "</div>"
      ],
      "text/plain": [
       "   application_id loanapply_insert_time  bank_id  product_id  loan_limit  \\\n",
       "0         1748340   2022-06-07 13:05:41        7         191  42000000.0   \n",
       "1         1748340   2022-06-07 13:05:41       25         169  24000000.0   \n",
       "2         1748340   2022-06-07 13:05:41        2           7  24000000.0   \n",
       "3         1748340   2022-06-07 13:05:41        4         268  29000000.0   \n",
       "4         1748340   2022-06-07 13:05:41       11         118   5000000.0   \n",
       "\n",
       "   loan_rate  is_applied  user_id  gender         insert_time  ...  \\\n",
       "0       13.6         NaN   430982     1.0 2022-06-07 13:05:39  ...   \n",
       "1       17.9         NaN   430982     1.0 2022-06-07 13:05:39  ...   \n",
       "2       18.5         NaN   430982     1.0 2022-06-07 13:05:39  ...   \n",
       "3       10.8         NaN   430982     1.0 2022-06-07 13:05:39  ...   \n",
       "4       16.4         NaN   430982     1.0 2022-06-07 13:05:39  ...   \n",
       "\n",
       "   employment_type  houseown_type desired_amount purpose  \\\n",
       "0              정규직             자가     25000000.0    대환대출   \n",
       "1              정규직             자가     25000000.0    대환대출   \n",
       "2              정규직             자가     25000000.0    대환대출   \n",
       "3              정규직             자가     25000000.0    대환대출   \n",
       "4              정규직             자가     25000000.0    대환대출   \n",
       "\n",
       "  personal_rehabilitation_yn  personal_rehabilitation_complete_yn  \\\n",
       "0                        0.0                                  0.0   \n",
       "1                        0.0                                  0.0   \n",
       "2                        0.0                                  0.0   \n",
       "3                        0.0                                  0.0   \n",
       "4                        0.0                                  0.0   \n",
       "\n",
       "  existing_loan_cnt  existing_loan_amt  employment_period   age  \n",
       "0               2.0         15000000.0              126.0  26.0  \n",
       "1               2.0         15000000.0              126.0  26.0  \n",
       "2               2.0         15000000.0              126.0  26.0  \n",
       "3               2.0         15000000.0              126.0  26.0  \n",
       "4               2.0         15000000.0              126.0  26.0  \n",
       "\n",
       "[5 rows x 23 columns]"
      ]
     },
     "execution_count": 18,
     "metadata": {},
     "output_type": "execute_result"
    }
   ],
   "source": [
    "# loan_result랑 merge\n",
    "user_loan = pd.merge(loan_result, user_spec, on = 'application_id')\n",
    "print(user_loan.shape)\n",
    "print(user_loan.isna().sum())\n",
    "user_loan.head()"
   ]
  },
  {
   "cell_type": "code",
   "execution_count": 19,
   "id": "475364d3",
   "metadata": {},
   "outputs": [],
   "source": [
    "# month, day 변수 생성 (loanapply_insert_time 기준)\n",
    "user_loan['month'] = user_loan['loanapply_insert_time'].dt.month\n",
    "user_loan['day'] = user_loan['loanapply_insert_time'].dt.day"
   ]
  },
  {
   "cell_type": "code",
   "execution_count": 20,
   "id": "cccccf17",
   "metadata": {},
   "outputs": [
    {
     "name": "stdout",
     "output_type": "stream",
     "text": [
      "(13527229, 25)\n"
     ]
    }
   ],
   "source": [
    "print(user_loan.shape)"
   ]
  },
  {
   "cell_type": "code",
   "execution_count": 21,
   "id": "9cf53075",
   "metadata": {},
   "outputs": [],
   "source": [
    "# get_dummies\n",
    "cat_features = ['income_type', 'employment_type', 'houseown_type', 'purpose']\n",
    "user_loan = pd.get_dummies(user_loan, prefix_sep = \"_\", columns = cat_features, drop_first = True)"
   ]
  },
  {
   "cell_type": "markdown",
   "id": "e472562c",
   "metadata": {},
   "source": [
    "#### 결측을 나타내는 변수 추가"
   ]
  },
  {
   "cell_type": "code",
   "execution_count": 22,
   "id": "05d22229",
   "metadata": {},
   "outputs": [],
   "source": [
    "user_loan['gen_age_nan'] = user_loan.gender.isna()\n",
    "user_loan['credit_nan'] = user_loan.credit_score.isna()\n",
    "user_loan['amt_nan'] = user_loan.existing_loan_amt.isna()\n",
    "user_loan['period_nan'] = user_loan.employment_period.isna()"
   ]
  },
  {
   "cell_type": "markdown",
   "id": "c42f2ffb",
   "metadata": {},
   "source": [
    "#### 전체 데이터 수치형 변수 impute (MICE - extra tree)\n",
    "\n",
    "- imp_num_all.pkl : 수치형 결측치 변수들을 MICE로 채운 파일입니다."
   ]
  },
  {
   "cell_type": "code",
   "execution_count": 23,
   "id": "d2d22dd8",
   "metadata": {},
   "outputs": [],
   "source": [
    "drop_columns = ['application_id', 'loanapply_insert_time', 'bank_id','product_id',\n",
    "                 'loan_limit', 'loan_rate', 'is_applied', 'user_id', 'gender',\n",
    "                 'insert_time','month','day', 'gen_age_nan', 'credit_nan', 'amt_nan','period_nan']\n",
    "\n",
    "all_for_impute = user_loan.drop(columns = drop_columns).drop_duplicates(keep = 'first')\n",
    "all_for_impute_col_name = all_for_impute.columns"
   ]
  },
  {
   "cell_type": "code",
   "execution_count": 24,
   "id": "40c186c5",
   "metadata": {},
   "outputs": [
    {
     "name": "stdout",
     "output_type": "stream",
     "text": [
      "0:10:23.377082\n"
     ]
    }
   ],
   "source": [
    "start = time.time()\n",
    "et = ExtraTreesRegressor(n_estimators=10, random_state=1004)\n",
    "imp = IterativeImputer(estimator = et, max_iter=10, tol=0.1\n",
    "                    ,skip_complete = True, random_state = 1004, min_value = 0)\n",
    "imp.fit(all_for_impute)\n",
    "end = time.time()\n",
    "print(datetime.timedelta(seconds = end-start))"
   ]
  },
  {
   "cell_type": "code",
   "execution_count": 25,
   "id": "43b52b00",
   "metadata": {},
   "outputs": [
    {
     "name": "stdout",
     "output_type": "stream",
     "text": [
      "0:01:45.626487\n"
     ]
    }
   ],
   "source": [
    "start = time.time()\n",
    "imp_all = imp.transform(user_loan.drop(columns = drop_columns))\n",
    "end = time.time()\n",
    "print(datetime.timedelta(seconds = end-start))"
   ]
  },
  {
   "cell_type": "code",
   "execution_count": 26,
   "id": "9e309d90",
   "metadata": {},
   "outputs": [],
   "source": [
    "imp_all = pd.DataFrame(columns = all_for_impute_col_name, index = user_loan.index, data = imp_all)"
   ]
  },
  {
   "cell_type": "code",
   "execution_count": 27,
   "id": "650ace43",
   "metadata": {},
   "outputs": [
    {
     "name": "stdout",
     "output_type": "stream",
     "text": [
      "(13527229, 43)\n"
     ]
    }
   ],
   "source": [
    "imp_all = pd.concat([imp_all, user_loan.loc[:,drop_columns]], axis = 1)\n",
    "print(imp_all.shape)"
   ]
  },
  {
   "cell_type": "code",
   "execution_count": 28,
   "id": "2f583a33",
   "metadata": {},
   "outputs": [
    {
     "data": {
      "text/plain": [
       "credit_score                                 0\n",
       "yearly_income                                0\n",
       "desired_amount                               0\n",
       "personal_rehabilitation_yn                   0\n",
       "personal_rehabilitation_complete_yn          0\n",
       "existing_loan_cnt                            0\n",
       "existing_loan_amt                            0\n",
       "employment_period                            0\n",
       "age                                          0\n",
       "income_type_EARNEDINCOME2                    0\n",
       "income_type_FREELANCER                       0\n",
       "income_type_OTHERINCOME                      0\n",
       "income_type_PRACTITIONER                     0\n",
       "income_type_PRIVATEBUSINESS                  0\n",
       "employment_type_기타                           0\n",
       "employment_type_일용직                          0\n",
       "employment_type_정규직                          0\n",
       "houseown_type_배우자                            0\n",
       "houseown_type_자가                             0\n",
       "houseown_type_전월세                            0\n",
       "purpose_대환대출                                 0\n",
       "purpose_사업자금                                 0\n",
       "purpose_생활비                                  0\n",
       "purpose_자동차구입                                0\n",
       "purpose_전월세보증금                               0\n",
       "purpose_주택구입                                 0\n",
       "purpose_투자                                   0\n",
       "application_id                               0\n",
       "loanapply_insert_time                        0\n",
       "bank_id                                      0\n",
       "product_id                                   0\n",
       "loan_limit                                7382\n",
       "loan_rate                                 7382\n",
       "is_applied                             3257239\n",
       "user_id                                      0\n",
       "gender                                  128096\n",
       "insert_time                                  0\n",
       "month                                        0\n",
       "day                                          0\n",
       "gen_age_nan                                  0\n",
       "credit_nan                                   0\n",
       "amt_nan                                      0\n",
       "period_nan                                   0\n",
       "dtype: int64"
      ]
     },
     "execution_count": 28,
     "metadata": {},
     "output_type": "execute_result"
    }
   ],
   "source": [
    "imp_all.isna().sum()"
   ]
  },
  {
   "cell_type": "code",
   "execution_count": 29,
   "id": "981abbdc",
   "metadata": {},
   "outputs": [
    {
     "data": {
      "text/plain": [
       "287"
      ]
     },
     "execution_count": 29,
     "metadata": {},
     "output_type": "execute_result"
    }
   ],
   "source": [
    "del et\n",
    "del imp\n",
    "gc.collect()"
   ]
  },
  {
   "cell_type": "code",
   "execution_count": 30,
   "id": "c9b937cd",
   "metadata": {},
   "outputs": [],
   "source": [
    "imp_all.iloc[:, 3:5] = imp_all.iloc[:, 3:5].astype('uint8')\n",
    "imp_all.iloc[:, 9:27] = imp_all.iloc[:, 9:27].astype('uint8')"
   ]
  },
  {
   "cell_type": "markdown",
   "id": "a340862b",
   "metadata": {},
   "source": [
    "#### gender 결측치 처리(1에 속할 확률으로 대체)"
   ]
  },
  {
   "cell_type": "code",
   "execution_count": 31,
   "id": "2788cc5a",
   "metadata": {},
   "outputs": [
    {
     "name": "stdout",
     "output_type": "stream",
     "text": [
      "(13527229, 28)\n"
     ]
    }
   ],
   "source": [
    "unusing_features = ['application_id', 'loanapply_insert_time', 'product_id', \n",
    "                    'user_id', 'insert_time','loan_limit', 'loan_rate', \n",
    "                    'is_applied','month', 'day', 'bank_id',\n",
    "                    'gen_age_nan', 'credit_nan', 'amt_nan','period_nan']\n",
    "tmp_all = imp_all.drop(columns = unusing_features)\n",
    "print(tmp_all.shape)"
   ]
  },
  {
   "cell_type": "code",
   "execution_count": 32,
   "id": "e7997d47",
   "metadata": {},
   "outputs": [
    {
     "name": "stdout",
     "output_type": "stream",
     "text": [
      "(13399133, 27)\n",
      "(13399133,)\n"
     ]
    }
   ],
   "source": [
    "tmp_all_X = tmp_all[~tmp_all.gender.isna()].drop(columns = ['gender'])\n",
    "tmp_all_y = tmp_all[~tmp_all.gender.isna()]['gender']\n",
    "print(tmp_all_X.shape)\n",
    "print(tmp_all_y.shape)"
   ]
  },
  {
   "cell_type": "code",
   "execution_count": 33,
   "id": "fc49f23f",
   "metadata": {},
   "outputs": [
    {
     "name": "stdout",
     "output_type": "stream",
     "text": [
      "0:01:32.376201\n"
     ]
    }
   ],
   "source": [
    "# 모델 훈련 (logistic regression)\n",
    "start = time.time()\n",
    "lr = LogisticRegression(class_weight = 'balanced')\n",
    "lr.fit(tmp_all_X, tmp_all_y)\n",
    "end = time.time()\n",
    "print(datetime.timedelta(seconds = end - start))"
   ]
  },
  {
   "cell_type": "code",
   "execution_count": 34,
   "id": "c055c141",
   "metadata": {},
   "outputs": [],
   "source": [
    "all_nan_idx = np.where(imp_all.gender.isna())[0]\n",
    "col_idx = np.where(imp_all.columns == 'gender')[0][0]"
   ]
  },
  {
   "cell_type": "code",
   "execution_count": 35,
   "id": "604785fb",
   "metadata": {},
   "outputs": [],
   "source": [
    "unusing_features = ['application_id', 'loanapply_insert_time', 'product_id', \n",
    "                    'user_id', 'insert_time','loan_limit', 'loan_rate', \n",
    "                    'is_applied','month', 'day', 'bank_id','gender',\n",
    "                   'gen_age_nan', 'credit_nan', 'amt_nan','period_nan']\n",
    "imp_gender_prob = lr.predict_proba(imp_all.iloc[all_nan_idx].drop(columns = unusing_features))"
   ]
  },
  {
   "cell_type": "code",
   "execution_count": 36,
   "id": "8d8093e4",
   "metadata": {},
   "outputs": [],
   "source": [
    "imp_all.iloc[all_nan_idx, col_idx] = imp_gender_prob[:,1]"
   ]
  },
  {
   "cell_type": "code",
   "execution_count": 37,
   "id": "1b15d51d",
   "metadata": {},
   "outputs": [
    {
     "data": {
      "text/plain": [
       "credit_score                                 0\n",
       "yearly_income                                0\n",
       "desired_amount                               0\n",
       "personal_rehabilitation_yn                   0\n",
       "personal_rehabilitation_complete_yn          0\n",
       "existing_loan_cnt                            0\n",
       "existing_loan_amt                            0\n",
       "employment_period                            0\n",
       "age                                          0\n",
       "income_type_EARNEDINCOME2                    0\n",
       "income_type_FREELANCER                       0\n",
       "income_type_OTHERINCOME                      0\n",
       "income_type_PRACTITIONER                     0\n",
       "income_type_PRIVATEBUSINESS                  0\n",
       "employment_type_기타                           0\n",
       "employment_type_일용직                          0\n",
       "employment_type_정규직                          0\n",
       "houseown_type_배우자                            0\n",
       "houseown_type_자가                             0\n",
       "houseown_type_전월세                            0\n",
       "purpose_대환대출                                 0\n",
       "purpose_사업자금                                 0\n",
       "purpose_생활비                                  0\n",
       "purpose_자동차구입                                0\n",
       "purpose_전월세보증금                               0\n",
       "purpose_주택구입                                 0\n",
       "purpose_투자                                   0\n",
       "application_id                               0\n",
       "loanapply_insert_time                        0\n",
       "bank_id                                      0\n",
       "product_id                                   0\n",
       "loan_limit                                7382\n",
       "loan_rate                                 7382\n",
       "is_applied                             3257239\n",
       "user_id                                      0\n",
       "gender                                       0\n",
       "insert_time                                  0\n",
       "month                                        0\n",
       "day                                          0\n",
       "gen_age_nan                                  0\n",
       "credit_nan                                   0\n",
       "amt_nan                                      0\n",
       "period_nan                                   0\n",
       "dtype: int64"
      ]
     },
     "execution_count": 37,
     "metadata": {},
     "output_type": "execute_result"
    }
   ],
   "source": [
    "imp_all.isna().sum()"
   ]
  },
  {
   "cell_type": "code",
   "execution_count": 38,
   "id": "42d823a0",
   "metadata": {},
   "outputs": [],
   "source": [
    "# age 범주화\n",
    "def age_to_cat(age):\n",
    "    if   age < 30: return 2\n",
    "    elif age < 40: return 3\n",
    "    elif age < 50: return 4\n",
    "    elif age < 60: return 5\n",
    "    elif age < 70: return 6\n",
    "    elif age < 80: return 7\n",
    "    else: return 8"
   ]
  },
  {
   "cell_type": "code",
   "execution_count": 39,
   "id": "de9c43a7",
   "metadata": {},
   "outputs": [],
   "source": [
    "imp_all['age_cat'] = imp_all.age.apply(age_to_cat)"
   ]
  },
  {
   "cell_type": "code",
   "execution_count": 40,
   "id": "775cf281",
   "metadata": {},
   "outputs": [],
   "source": [
    "# bank_id 전처리\n",
    "\n",
    "class make_bank_apply_prop():\n",
    "    \n",
    "    # fit\n",
    "    def make_bank_dic(self, X_train, y_train):\n",
    "        self.bank_dic = {}\n",
    "        tmp = pd.concat([X_train, y_train], axis = 1)[['bank_id', 'is_applied']].value_counts().reset_index(drop = False)\n",
    "        bank_id_unq = tmp.bank_id.unique()\n",
    "        for bid in bank_id_unq:\n",
    "            tmp_row = tmp[(tmp.bank_id == bid)&(tmp.is_applied == 1)].shape[0]\n",
    "            if tmp_row == 0:\n",
    "                count_app = 0\n",
    "            else:\n",
    "                count_app = int(tmp[(tmp.bank_id == bid)&(tmp.is_applied == 1)].iloc[:,2])\n",
    "            count_all = sum(tmp[(tmp.bank_id == bid)].iloc[:,2])\n",
    "            self.bank_dic[bid] = count_app / count_all\n",
    "        #return self.bank_dic\n",
    "    \n",
    "    # transform using apply function\n",
    "    def add_bank_prop(self, bank_id):\n",
    "        # 만약 key가 존재하지 않으면 평균값 반환\n",
    "        if bank_id in self.bank_dic.keys():\n",
    "            return self.bank_dic[bank_id]\n",
    "        else:\n",
    "            return np.array(list(self.bank_dic.values())).mean()"
   ]
  },
  {
   "cell_type": "code",
   "execution_count": 41,
   "id": "44af069e",
   "metadata": {
    "scrolled": true
   },
   "outputs": [],
   "source": [
    "makebank = make_bank_apply_prop()\n",
    "makebank.make_bank_dic(imp_all.drop(columns = ['is_applied']), imp_all[['is_applied']]) # imp_all로 fit\n",
    "imp_all['bank_apply_prop'] = imp_all['bank_id'].apply(makebank.add_bank_prop)"
   ]
  },
  {
   "cell_type": "code",
   "execution_count": 42,
   "id": "c7b5b4f3",
   "metadata": {},
   "outputs": [],
   "source": [
    "# 모든 결측치 처리한 데이터 저장\n",
    "imp_all.to_pickle('./final_data/imp_all.pkl')"
   ]
  },
  {
   "cell_type": "markdown",
   "id": "5127b0bf",
   "metadata": {},
   "source": [
    "#### train, valid, test, 6month data split"
   ]
  },
  {
   "cell_type": "code",
   "execution_count": 43,
   "id": "3852e191",
   "metadata": {},
   "outputs": [],
   "source": [
    "# 6월 데이터\n",
    "imp_all_6month = imp_all[imp_all.month == 6]"
   ]
  },
  {
   "cell_type": "code",
   "execution_count": 44,
   "id": "8c397df9",
   "metadata": {},
   "outputs": [],
   "source": [
    "# 6월 외의 데이터\n",
    "imp_all = imp_all[imp_all.month != 6]"
   ]
  },
  {
   "cell_type": "code",
   "execution_count": 45,
   "id": "4f212d7b",
   "metadata": {},
   "outputs": [],
   "source": [
    "# train, valid(20000), test(20000) split"
   ]
  },
  {
   "cell_type": "code",
   "execution_count": 46,
   "id": "9e89a7ac",
   "metadata": {},
   "outputs": [],
   "source": [
    "# idx 생성\n",
    "np.random.seed(1004)\n",
    "num3 = (imp_all.month == 3).sum()\n",
    "num4 = (imp_all.month == 4).sum()\n",
    "num5 = (imp_all.month == 5).sum()\n",
    "idx3 = np.random.choice(num3, size = 12000, replace = False)\n",
    "idx4 = np.random.choice(num4, size = 12000, replace = False)\n",
    "idx5 = np.random.choice(num5, size = 16000, replace = False)\n",
    "not_idx3 = np.array(list(set(range(num3)) - set(idx3)))\n",
    "not_idx4 = np.array(list(set(range(num4)) - set(idx4)))\n",
    "not_idx5 = np.array(list(set(range(num5)) - set(idx5)))"
   ]
  },
  {
   "cell_type": "code",
   "execution_count": 47,
   "id": "e68658b7",
   "metadata": {},
   "outputs": [
    {
     "name": "stdout",
     "output_type": "stream",
     "text": [
      "(10229990, 45)\n",
      "(20000, 45)\n",
      "(20000, 45)\n"
     ]
    }
   ],
   "source": [
    "# train, valid, test 분리\n",
    "train3 = imp_all[imp_all.month == 3].iloc[not_idx3]\n",
    "train4 = imp_all[imp_all.month == 4].iloc[not_idx4]\n",
    "train5 = imp_all[imp_all.month == 5].iloc[not_idx5]\n",
    "valid3 = imp_all[imp_all.month == 3].iloc[idx3[:6000]]\n",
    "valid4 = imp_all[imp_all.month == 4].iloc[idx4[:6000]]\n",
    "valid5 = imp_all[imp_all.month == 5].iloc[idx5[:8000]]\n",
    "test3 = imp_all[imp_all.month == 3].iloc[idx3[6000:]]\n",
    "test4 = imp_all[imp_all.month == 4].iloc[idx4[6000:]]\n",
    "test5 = imp_all[imp_all.month == 5].iloc[idx5[8000:]]\n",
    "real_train = pd.concat([train3, train4, train5])\n",
    "real_valid = pd.concat([valid3, valid4, valid5])\n",
    "real_test = pd.concat([test3, test4, test5])\n",
    "print(real_train.shape)\n",
    "print(real_valid.shape)\n",
    "print(real_test.shape)"
   ]
  },
  {
   "cell_type": "code",
   "execution_count": 48,
   "id": "ad2d3cd5",
   "metadata": {},
   "outputs": [
    {
     "data": {
      "text/plain": [
       "16"
      ]
     },
     "execution_count": 48,
     "metadata": {},
     "output_type": "execute_result"
    }
   ],
   "source": [
    "del idx3\n",
    "del idx4\n",
    "del idx5\n",
    "del not_idx3\n",
    "del not_idx4\n",
    "del not_idx5\n",
    "del train3\n",
    "del train4\n",
    "del train5\n",
    "del valid3\n",
    "del valid4\n",
    "del valid5\n",
    "del test3\n",
    "del test4\n",
    "del test5\n",
    "gc.collect()"
   ]
  },
  {
   "cell_type": "code",
   "execution_count": 49,
   "id": "6a8ddfd0",
   "metadata": {},
   "outputs": [],
   "source": [
    "real_train.to_pickle('./final_data/real_train.pkl')\n",
    "real_valid.to_pickle('./final_data/real_valid.pkl')\n",
    "real_test.to_pickle('./final_data/real_test.pkl')\n",
    "imp_all_6month.to_pickle('./final_data/real_6month.pkl')"
   ]
  },
  {
   "cell_type": "code",
   "execution_count": 50,
   "id": "53675aa2",
   "metadata": {},
   "outputs": [
    {
     "data": {
      "text/plain": [
       "32"
      ]
     },
     "execution_count": 50,
     "metadata": {},
     "output_type": "execute_result"
    }
   ],
   "source": [
    "del cat_features\n",
    "del imp_all_6month\n",
    "del real_train\n",
    "del real_valid\n",
    "del real_test\n",
    "gc.collect()"
   ]
  },
  {
   "cell_type": "code",
   "execution_count": 51,
   "id": "88eb6138",
   "metadata": {},
   "outputs": [],
   "source": [
    "# 확인\n",
    "real_train = pd.read_pickle('./final_data/real_train.pkl')\n",
    "real_valid = pd.read_pickle('./final_data/real_valid.pkl')\n",
    "real_test  = pd.read_pickle('./final_data/real_test.pkl')\n",
    "real_6month= pd.read_pickle('./final_data/real_6month.pkl')"
   ]
  },
  {
   "cell_type": "code",
   "execution_count": 52,
   "id": "a1e5f650",
   "metadata": {},
   "outputs": [
    {
     "name": "stdout",
     "output_type": "stream",
     "text": [
      "(10229990, 45)\n",
      "(20000, 45)\n",
      "(20000, 45)\n",
      "(3257239, 45)\n"
     ]
    }
   ],
   "source": [
    "print(real_train.shape)\n",
    "print(real_valid.shape)\n",
    "print(real_test.shape)\n",
    "print(real_6month.shape)"
   ]
  },
  {
   "cell_type": "code",
   "execution_count": 53,
   "id": "35110d21",
   "metadata": {},
   "outputs": [
    {
     "name": "stdout",
     "output_type": "stream",
     "text": [
      "credit_score                              0\n",
      "yearly_income                             0\n",
      "desired_amount                            0\n",
      "personal_rehabilitation_yn                0\n",
      "personal_rehabilitation_complete_yn       0\n",
      "existing_loan_cnt                         0\n",
      "existing_loan_amt                         0\n",
      "employment_period                         0\n",
      "age                                       0\n",
      "income_type_EARNEDINCOME2                 0\n",
      "income_type_FREELANCER                    0\n",
      "income_type_OTHERINCOME                   0\n",
      "income_type_PRACTITIONER                  0\n",
      "income_type_PRIVATEBUSINESS               0\n",
      "employment_type_기타                        0\n",
      "employment_type_일용직                       0\n",
      "employment_type_정규직                       0\n",
      "houseown_type_배우자                         0\n",
      "houseown_type_자가                          0\n",
      "houseown_type_전월세                         0\n",
      "purpose_대환대출                              0\n",
      "purpose_사업자금                              0\n",
      "purpose_생활비                               0\n",
      "purpose_자동차구입                             0\n",
      "purpose_전월세보증금                            0\n",
      "purpose_주택구입                              0\n",
      "purpose_투자                                0\n",
      "application_id                            0\n",
      "loanapply_insert_time                     0\n",
      "bank_id                                   0\n",
      "product_id                                0\n",
      "loan_limit                             5601\n",
      "loan_rate                              5601\n",
      "is_applied                                0\n",
      "user_id                                   0\n",
      "gender                                    0\n",
      "insert_time                               0\n",
      "month                                     0\n",
      "day                                       0\n",
      "gen_age_nan                               0\n",
      "credit_nan                                0\n",
      "amt_nan                                   0\n",
      "period_nan                                0\n",
      "age_cat                                   0\n",
      "bank_apply_prop                           0\n",
      "dtype: int64\n",
      "credit_score                           0\n",
      "yearly_income                          0\n",
      "desired_amount                         0\n",
      "personal_rehabilitation_yn             0\n",
      "personal_rehabilitation_complete_yn    0\n",
      "existing_loan_cnt                      0\n",
      "existing_loan_amt                      0\n",
      "employment_period                      0\n",
      "age                                    0\n",
      "income_type_EARNEDINCOME2              0\n",
      "income_type_FREELANCER                 0\n",
      "income_type_OTHERINCOME                0\n",
      "income_type_PRACTITIONER               0\n",
      "income_type_PRIVATEBUSINESS            0\n",
      "employment_type_기타                     0\n",
      "employment_type_일용직                    0\n",
      "employment_type_정규직                    0\n",
      "houseown_type_배우자                      0\n",
      "houseown_type_자가                       0\n",
      "houseown_type_전월세                      0\n",
      "purpose_대환대출                           0\n",
      "purpose_사업자금                           0\n",
      "purpose_생활비                            0\n",
      "purpose_자동차구입                          0\n",
      "purpose_전월세보증금                         0\n",
      "purpose_주택구입                           0\n",
      "purpose_투자                             0\n",
      "application_id                         0\n",
      "loanapply_insert_time                  0\n",
      "bank_id                                0\n",
      "product_id                             0\n",
      "loan_limit                             9\n",
      "loan_rate                              9\n",
      "is_applied                             0\n",
      "user_id                                0\n",
      "gender                                 0\n",
      "insert_time                            0\n",
      "month                                  0\n",
      "day                                    0\n",
      "gen_age_nan                            0\n",
      "credit_nan                             0\n",
      "amt_nan                                0\n",
      "period_nan                             0\n",
      "age_cat                                0\n",
      "bank_apply_prop                        0\n",
      "dtype: int64\n",
      "credit_score                            0\n",
      "yearly_income                           0\n",
      "desired_amount                          0\n",
      "personal_rehabilitation_yn              0\n",
      "personal_rehabilitation_complete_yn     0\n",
      "existing_loan_cnt                       0\n",
      "existing_loan_amt                       0\n",
      "employment_period                       0\n",
      "age                                     0\n",
      "income_type_EARNEDINCOME2               0\n",
      "income_type_FREELANCER                  0\n",
      "income_type_OTHERINCOME                 0\n",
      "income_type_PRACTITIONER                0\n",
      "income_type_PRIVATEBUSINESS             0\n",
      "employment_type_기타                      0\n",
      "employment_type_일용직                     0\n",
      "employment_type_정규직                     0\n",
      "houseown_type_배우자                       0\n",
      "houseown_type_자가                        0\n",
      "houseown_type_전월세                       0\n",
      "purpose_대환대출                            0\n",
      "purpose_사업자금                            0\n",
      "purpose_생활비                             0\n",
      "purpose_자동차구입                           0\n",
      "purpose_전월세보증금                          0\n",
      "purpose_주택구입                            0\n",
      "purpose_투자                              0\n",
      "application_id                          0\n",
      "loanapply_insert_time                   0\n",
      "bank_id                                 0\n",
      "product_id                              0\n",
      "loan_limit                             15\n",
      "loan_rate                              15\n",
      "is_applied                              0\n",
      "user_id                                 0\n",
      "gender                                  0\n",
      "insert_time                             0\n",
      "month                                   0\n",
      "day                                     0\n",
      "gen_age_nan                             0\n",
      "credit_nan                              0\n",
      "amt_nan                                 0\n",
      "period_nan                              0\n",
      "age_cat                                 0\n",
      "bank_apply_prop                         0\n",
      "dtype: int64\n",
      "credit_score                                 0\n",
      "yearly_income                                0\n",
      "desired_amount                               0\n",
      "personal_rehabilitation_yn                   0\n",
      "personal_rehabilitation_complete_yn          0\n",
      "existing_loan_cnt                            0\n",
      "existing_loan_amt                            0\n",
      "employment_period                            0\n",
      "age                                          0\n",
      "income_type_EARNEDINCOME2                    0\n",
      "income_type_FREELANCER                       0\n",
      "income_type_OTHERINCOME                      0\n",
      "income_type_PRACTITIONER                     0\n",
      "income_type_PRIVATEBUSINESS                  0\n",
      "employment_type_기타                           0\n",
      "employment_type_일용직                          0\n",
      "employment_type_정규직                          0\n",
      "houseown_type_배우자                            0\n",
      "houseown_type_자가                             0\n",
      "houseown_type_전월세                            0\n",
      "purpose_대환대출                                 0\n",
      "purpose_사업자금                                 0\n",
      "purpose_생활비                                  0\n",
      "purpose_자동차구입                                0\n",
      "purpose_전월세보증금                               0\n",
      "purpose_주택구입                                 0\n",
      "purpose_투자                                   0\n",
      "application_id                               0\n",
      "loanapply_insert_time                        0\n",
      "bank_id                                      0\n",
      "product_id                                   0\n",
      "loan_limit                                1757\n",
      "loan_rate                                 1757\n",
      "is_applied                             3257239\n",
      "user_id                                      0\n",
      "gender                                       0\n",
      "insert_time                                  0\n",
      "month                                        0\n",
      "day                                          0\n",
      "gen_age_nan                                  0\n",
      "credit_nan                                   0\n",
      "amt_nan                                      0\n",
      "period_nan                                   0\n",
      "age_cat                                      0\n",
      "bank_apply_prop                              0\n",
      "dtype: int64\n"
     ]
    }
   ],
   "source": [
    "print(real_train.isna().sum())\n",
    "print(real_valid.isna().sum())\n",
    "print(real_test.isna().sum())\n",
    "print(real_6month.isna().sum())"
   ]
  },
  {
   "cell_type": "code",
   "execution_count": null,
   "id": "ad186f4d",
   "metadata": {},
   "outputs": [],
   "source": []
  },
  {
   "cell_type": "code",
   "execution_count": null,
   "id": "d6141c7f",
   "metadata": {},
   "outputs": [],
   "source": []
  },
  {
   "cell_type": "code",
   "execution_count": null,
   "id": "4248e8e2",
   "metadata": {},
   "outputs": [],
   "source": []
  }
 ],
 "metadata": {
  "kernelspec": {
   "display_name": "Python 3 (ipykernel)",
   "language": "python",
   "name": "python3"
  },
  "language_info": {
   "codemirror_mode": {
    "name": "ipython",
    "version": 3
   },
   "file_extension": ".py",
   "mimetype": "text/x-python",
   "name": "python",
   "nbconvert_exporter": "python",
   "pygments_lexer": "ipython3",
   "version": "3.8.8"
  }
 },
 "nbformat": 4,
 "nbformat_minor": 5
}
