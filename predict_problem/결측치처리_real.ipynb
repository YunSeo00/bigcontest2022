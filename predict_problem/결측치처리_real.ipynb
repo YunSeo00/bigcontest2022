{
 "cells": [
  {
   "cell_type": "code",
   "execution_count": 1,
   "id": "019d37aa",
   "metadata": {},
   "outputs": [],
   "source": [
    "import pandas as pd\n",
    "import numpy as np\n",
    "import gc\n",
    "import pickle\n",
    "import time\n",
    "import datetime\n",
    "import copy\n",
    "\n",
    "\n",
    "from sklearn.metrics import f1_score\n",
    "from sklearn.metrics import confusion_matrix\n",
    "from sklearn.ensemble import ExtraTreesRegressor\n",
    "from sklearn.experimental import enable_iterative_imputer\n",
    "from sklearn.impute import IterativeImputer\n",
    "from sklearn.ensemble import RandomForestClassifier\n",
    "from sklearn.linear_model import BayesianRidge\n",
    "from sklearn.linear_model import LogisticRegression\n",
    "from sklearn.linear_model import LinearRegression"
   ]
  },
  {
   "cell_type": "code",
   "execution_count": 2,
   "id": "8d7e610a",
   "metadata": {},
   "outputs": [],
   "source": [
    "# user_spec, loan_result 테이블 불러오기 및 lonapply_insert_time type 변경\n",
    "user_spec = pd.read_csv('./user_spec.csv')\n",
    "loan_result = pd.read_csv('./loan_result.csv')\n",
    "loan_result['loanapply_insert_time'] = pd.to_datetime(loan_result['loanapply_insert_time'])"
   ]
  },
  {
   "cell_type": "markdown",
   "id": "e3f28194",
   "metadata": {},
   "source": [
    "#### gender, age, amt, credit_score, employment_period 변수 제외한 결측치 처리"
   ]
  },
  {
   "cell_type": "code",
   "execution_count": 3,
   "id": "e8f16185",
   "metadata": {},
   "outputs": [],
   "source": [
    "def cem_var_preproc(x):\n",
    "    if len(str(x)) == 10:\n",
    "        return str(x)[:6] + '01'\n",
    "    elif len(str(x)) == 8:\n",
    "        return str(x)[:6] + '01'\n",
    "    elif str(x) == 'nan':\n",
    "        return np.nan\n",
    "    else: \n",
    "        print(x)\n",
    "        return x\n",
    "\n",
    "# datetime 형변환\n",
    "user_spec['company_enter_month'] = pd.to_datetime(user_spec['company_enter_month'].apply(cem_var_preproc))\n",
    "user_spec['insert_time'] = pd.to_datetime(user_spec.insert_time)\n",
    "\n",
    "# employment_period, age 변수 생성\n",
    "user_spec['employment_period'] = (user_spec['insert_time'] - user_spec['company_enter_month']).dt.days\n",
    "user_spec['age'] = user_spec['insert_time'].dt.year - user_spec['birth_year']\n",
    "\n",
    "# company_enter_month, birth_year drop\n",
    "user_spec = user_spec.drop(columns = ['company_enter_month', 'birth_year'])"
   ]
  },
  {
   "cell_type": "code",
   "execution_count": 4,
   "id": "c8f83c91",
   "metadata": {},
   "outputs": [],
   "source": [
    "# employment_period가 음수인 사람 같은 user_id의 값으로 대체 - 잘못 입력한 값\n",
    "row_idx = np.where(user_spec['employment_period'] < 0)[0]\n",
    "col_idx = np.where(user_spec.columns == 'employment_period')[0][0]\n",
    "user_spec.iloc[row_idx, col_idx] = 136"
   ]
  },
  {
   "cell_type": "code",
   "execution_count": 5,
   "id": "78f6907a",
   "metadata": {},
   "outputs": [
    {
     "name": "stdout",
     "output_type": "stream",
     "text": [
      "19세 미만 변수 삭제 전 min / max:  14.0 95.0\n",
      "19세 미만 변수 삭제 후min / max:  19.0 95.0\n"
     ]
    }
   ],
   "source": [
    "# 19세 미만 변수 삭제\n",
    "print(\"19세 미만 변수 삭제 전 min / max: \", user_spec.age.min(), user_spec.age.max())\n",
    "user_spec = pd.concat([user_spec[user_spec.age >= 19], user_spec[user_spec.age.isna()]])\n",
    "print(\"19세 미만 변수 삭제 후min / max: \", user_spec.age.min(), user_spec.age.max())"
   ]
  },
  {
   "cell_type": "code",
   "execution_count": 6,
   "id": "ae3aaebf",
   "metadata": {},
   "outputs": [],
   "source": [
    "# income_type, employment_type, houseown_type, desired_amount, purpose nan인 데이터 삭제\n",
    "user_spec = user_spec[~user_spec.income_type.isna()]"
   ]
  },
  {
   "cell_type": "code",
   "execution_count": 7,
   "id": "63e5b051",
   "metadata": {},
   "outputs": [],
   "source": [
    "# amt와 cnt가 모두 nan이면 0으로 채운다.\n",
    "amt_idx = np.where(user_spec.columns == 'existing_loan_amt')[0][0]\n",
    "cnt_idx = np.where(user_spec.columns == 'existing_loan_cnt')[0][0]\n",
    "nan_idx = np.where((user_spec.existing_loan_cnt.isna()) & (user_spec.existing_loan_amt.isna()))[0]\n",
    "user_spec.iloc[nan_idx,amt_idx] = 0\n",
    "user_spec.iloc[nan_idx,cnt_idx] = 0"
   ]
  },
  {
   "cell_type": "code",
   "execution_count": 8,
   "id": "3c615b14",
   "metadata": {},
   "outputs": [],
   "source": [
    "# 개인회생 0, 1 조합 삭제\n",
    "user_spec = user_spec[~((user_spec.personal_rehabilitation_yn == 0)&(user_spec.personal_rehabilitation_complete_yn == 1))]"
   ]
  },
  {
   "cell_type": "code",
   "execution_count": 9,
   "id": "e5b65cc3",
   "metadata": {},
   "outputs": [],
   "source": [
    "# 개인회생 nan, nan인 데이터 0으로 처리\n",
    "yn_idx = np.where(user_spec.columns == 'personal_rehabilitation_yn')[0][0]\n",
    "cyn_idx = np.where(user_spec.columns == 'personal_rehabilitation_complete_yn')[0][0]\n",
    "nan_idx = np.where(user_spec.personal_rehabilitation_yn.isna())[0]\n",
    "user_spec.iloc[nan_idx,yn_idx] = 0\n",
    "user_spec.iloc[nan_idx,cyn_idx] = 0 "
   ]
  },
  {
   "cell_type": "code",
   "execution_count": 10,
   "id": "932b788d",
   "metadata": {},
   "outputs": [],
   "source": [
    "# 개인회생 0, nan인 데이터 0으로 처리\n",
    "cyn_idx = np.where(user_spec.columns == 'personal_rehabilitation_complete_yn')[0][0]\n",
    "nan_idx = np.where(user_spec.personal_rehabilitation_complete_yn.isna())[0]\n",
    "user_spec.iloc[nan_idx,cyn_idx] = 0 "
   ]
  },
  {
   "cell_type": "code",
   "execution_count": 11,
   "id": "0435a110",
   "metadata": {},
   "outputs": [
    {
     "data": {
      "text/html": [
       "<div>\n",
       "<style scoped>\n",
       "    .dataframe tbody tr th:only-of-type {\n",
       "        vertical-align: middle;\n",
       "    }\n",
       "\n",
       "    .dataframe tbody tr th {\n",
       "        vertical-align: top;\n",
       "    }\n",
       "\n",
       "    .dataframe thead th {\n",
       "        text-align: right;\n",
       "    }\n",
       "</style>\n",
       "<table border=\"1\" class=\"dataframe\">\n",
       "  <thead>\n",
       "    <tr style=\"text-align: right;\">\n",
       "      <th></th>\n",
       "      <th>application_id</th>\n",
       "      <th>user_id</th>\n",
       "      <th>gender</th>\n",
       "      <th>insert_time</th>\n",
       "      <th>credit_score</th>\n",
       "      <th>yearly_income</th>\n",
       "      <th>income_type</th>\n",
       "      <th>employment_type</th>\n",
       "      <th>houseown_type</th>\n",
       "      <th>desired_amount</th>\n",
       "      <th>purpose</th>\n",
       "      <th>personal_rehabilitation_yn</th>\n",
       "      <th>personal_rehabilitation_complete_yn</th>\n",
       "      <th>existing_loan_cnt</th>\n",
       "      <th>existing_loan_amt</th>\n",
       "      <th>employment_period</th>\n",
       "      <th>age</th>\n",
       "    </tr>\n",
       "  </thead>\n",
       "  <tbody>\n",
       "    <tr>\n",
       "      <th>165422</th>\n",
       "      <td>1026915</td>\n",
       "      <td>861363</td>\n",
       "      <td>1.0</td>\n",
       "      <td>2022-06-30 21:11:51</td>\n",
       "      <td>NaN</td>\n",
       "      <td>NaN</td>\n",
       "      <td>OTHERINCOME</td>\n",
       "      <td>기타</td>\n",
       "      <td>전월세</td>\n",
       "      <td>5000000.0</td>\n",
       "      <td>생활비</td>\n",
       "      <td>0.0</td>\n",
       "      <td>0.0</td>\n",
       "      <td>0.0</td>\n",
       "      <td>0.0</td>\n",
       "      <td>NaN</td>\n",
       "      <td>27.0</td>\n",
       "    </tr>\n",
       "    <tr>\n",
       "      <th>233316</th>\n",
       "      <td>2045613</td>\n",
       "      <td>702899</td>\n",
       "      <td>1.0</td>\n",
       "      <td>2022-06-30 18:37:04</td>\n",
       "      <td>520.0</td>\n",
       "      <td>NaN</td>\n",
       "      <td>FREELANCER</td>\n",
       "      <td>기타</td>\n",
       "      <td>전월세</td>\n",
       "      <td>5000000.0</td>\n",
       "      <td>전월세보증금</td>\n",
       "      <td>0.0</td>\n",
       "      <td>0.0</td>\n",
       "      <td>1.0</td>\n",
       "      <td>1000000.0</td>\n",
       "      <td>29.0</td>\n",
       "      <td>27.0</td>\n",
       "    </tr>\n",
       "    <tr>\n",
       "      <th>597591</th>\n",
       "      <td>391560</td>\n",
       "      <td>329226</td>\n",
       "      <td>0.0</td>\n",
       "      <td>2022-06-30 19:27:28</td>\n",
       "      <td>590.0</td>\n",
       "      <td>NaN</td>\n",
       "      <td>OTHERINCOME</td>\n",
       "      <td>기타</td>\n",
       "      <td>전월세</td>\n",
       "      <td>20000000.0</td>\n",
       "      <td>생활비</td>\n",
       "      <td>0.0</td>\n",
       "      <td>0.0</td>\n",
       "      <td>9.0</td>\n",
       "      <td>27000000.0</td>\n",
       "      <td>NaN</td>\n",
       "      <td>26.0</td>\n",
       "    </tr>\n",
       "    <tr>\n",
       "      <th>597613</th>\n",
       "      <td>341149</td>\n",
       "      <td>670502</td>\n",
       "      <td>1.0</td>\n",
       "      <td>2022-06-30 21:32:18</td>\n",
       "      <td>930.0</td>\n",
       "      <td>NaN</td>\n",
       "      <td>OTHERINCOME</td>\n",
       "      <td>기타</td>\n",
       "      <td>기타가족소유</td>\n",
       "      <td>6000000.0</td>\n",
       "      <td>사업자금</td>\n",
       "      <td>0.0</td>\n",
       "      <td>0.0</td>\n",
       "      <td>1.0</td>\n",
       "      <td>3000000.0</td>\n",
       "      <td>NaN</td>\n",
       "      <td>41.0</td>\n",
       "    </tr>\n",
       "    <tr>\n",
       "      <th>971960</th>\n",
       "      <td>1330905</td>\n",
       "      <td>771592</td>\n",
       "      <td>1.0</td>\n",
       "      <td>2022-06-30 18:57:05</td>\n",
       "      <td>750.0</td>\n",
       "      <td>NaN</td>\n",
       "      <td>OTHERINCOME</td>\n",
       "      <td>기타</td>\n",
       "      <td>자가</td>\n",
       "      <td>3000000.0</td>\n",
       "      <td>생활비</td>\n",
       "      <td>0.0</td>\n",
       "      <td>0.0</td>\n",
       "      <td>1.0</td>\n",
       "      <td>3000000.0</td>\n",
       "      <td>NaN</td>\n",
       "      <td>19.0</td>\n",
       "    </tr>\n",
       "  </tbody>\n",
       "</table>\n",
       "</div>"
      ],
      "text/plain": [
       "        application_id  user_id  gender         insert_time  credit_score  \\\n",
       "165422         1026915   861363     1.0 2022-06-30 21:11:51           NaN   \n",
       "233316         2045613   702899     1.0 2022-06-30 18:37:04         520.0   \n",
       "597591          391560   329226     0.0 2022-06-30 19:27:28         590.0   \n",
       "597613          341149   670502     1.0 2022-06-30 21:32:18         930.0   \n",
       "971960         1330905   771592     1.0 2022-06-30 18:57:05         750.0   \n",
       "\n",
       "        yearly_income  income_type employment_type houseown_type  \\\n",
       "165422            NaN  OTHERINCOME              기타           전월세   \n",
       "233316            NaN   FREELANCER              기타           전월세   \n",
       "597591            NaN  OTHERINCOME              기타           전월세   \n",
       "597613            NaN  OTHERINCOME              기타        기타가족소유   \n",
       "971960            NaN  OTHERINCOME              기타            자가   \n",
       "\n",
       "        desired_amount purpose  personal_rehabilitation_yn  \\\n",
       "165422       5000000.0     생활비                         0.0   \n",
       "233316       5000000.0  전월세보증금                         0.0   \n",
       "597591      20000000.0     생활비                         0.0   \n",
       "597613       6000000.0    사업자금                         0.0   \n",
       "971960       3000000.0     생활비                         0.0   \n",
       "\n",
       "        personal_rehabilitation_complete_yn  existing_loan_cnt  \\\n",
       "165422                                  0.0                0.0   \n",
       "233316                                  0.0                1.0   \n",
       "597591                                  0.0                9.0   \n",
       "597613                                  0.0                1.0   \n",
       "971960                                  0.0                1.0   \n",
       "\n",
       "        existing_loan_amt  employment_period   age  \n",
       "165422                0.0                NaN  27.0  \n",
       "233316          1000000.0               29.0  27.0  \n",
       "597591         27000000.0                NaN  26.0  \n",
       "597613          3000000.0                NaN  41.0  \n",
       "971960          3000000.0                NaN  19.0  "
      ]
     },
     "execution_count": 11,
     "metadata": {},
     "output_type": "execute_result"
    }
   ],
   "source": [
    "# yearly_income 결측치 데이터 목록\n",
    "user_spec[user_spec.yearly_income.isna()]"
   ]
  },
  {
   "cell_type": "code",
   "execution_count": 12,
   "id": "271e8d1d",
   "metadata": {},
   "outputs": [],
   "source": [
    "# 같은 user_id 정보가 없는 데이터 (1개) 삭제\n",
    "user_spec = user_spec[~(user_spec.user_id == 861363)]"
   ]
  },
  {
   "cell_type": "code",
   "execution_count": 13,
   "id": "5bb6376b",
   "metadata": {},
   "outputs": [],
   "source": [
    "# 같은 user_id 정보가 있는 데이터 mean()으로 대체\n",
    "col_idx = np.where(user_spec.columns == 'yearly_income')[0][0]\n",
    "# 1\n",
    "row_idx = np.where(user_spec.application_id == 2045613)[0]\n",
    "user_spec.iloc[row_idx, col_idx] = user_spec[user_spec.user_id == 702899].yearly_income.mean()\n",
    "# 2\n",
    "row_idx = np.where(user_spec.application_id == 391560)[0]\n",
    "user_spec.iloc[row_idx, col_idx] = user_spec[user_spec.user_id == 329226].yearly_income.mean()\n",
    "# 3\n",
    "row_idx = np.where(user_spec.application_id == 341149)[0]\n",
    "user_spec.iloc[row_idx, col_idx] = user_spec[user_spec.user_id == 670502].yearly_income.mean()\n",
    "# 4\n",
    "row_idx = np.where(user_spec.application_id == 1330905)[0]\n",
    "user_spec.iloc[row_idx, col_idx] = user_spec[user_spec.user_id == 771592].yearly_income.mean()"
   ]
  },
  {
   "cell_type": "code",
   "execution_count": 14,
   "id": "4ac261bb",
   "metadata": {},
   "outputs": [
    {
     "data": {
      "text/plain": [
       "application_id                              0\n",
       "user_id                                     0\n",
       "gender                                  12959\n",
       "insert_time                                 0\n",
       "credit_score                           105014\n",
       "yearly_income                               0\n",
       "income_type                                 0\n",
       "employment_type                             0\n",
       "houseown_type                               0\n",
       "desired_amount                              0\n",
       "purpose                                     0\n",
       "personal_rehabilitation_yn                  0\n",
       "personal_rehabilitation_complete_yn         0\n",
       "existing_loan_cnt                           0\n",
       "existing_loan_amt                      115148\n",
       "employment_period                      171578\n",
       "age                                     12959\n",
       "dtype: int64"
      ]
     },
     "execution_count": 14,
     "metadata": {},
     "output_type": "execute_result"
    }
   ],
   "source": [
    "user_spec.isna().sum()"
   ]
  },
  {
   "cell_type": "markdown",
   "id": "3b4a6f9b",
   "metadata": {},
   "source": [
    "- LIVING -> 생활비\n",
    "- ETC -> 기타\n",
    "- HOUSEDEPOSIT -> 전월세보증금\n",
    "- BUYHOUSE -> 주택구입\n",
    "- BUYCAR -> 자동차구입\n",
    "- INVEST -> 투자\n",
    "- BUSINESS -> 사업자금\n",
    "- SWITCHLOAN -> 대환대출"
   ]
  },
  {
   "cell_type": "code",
   "execution_count": 15,
   "id": "13f5a47d",
   "metadata": {},
   "outputs": [
    {
     "data": {
      "text/plain": [
       "array(['기타', '대환대출', '생활비', '사업자금', '주택구입', '전월세보증금', '투자', 'LIVING',\n",
       "       'SWITCHLOAN', 'ETC', 'INVEST', '자동차구입', 'BUSINESS', 'BUYCAR',\n",
       "       'HOUSEDEPOSIT', 'BUYHOUSE'], dtype=object)"
      ]
     },
     "execution_count": 15,
     "metadata": {},
     "output_type": "execute_result"
    }
   ],
   "source": [
    "# purpose 영어, 한글 통일\n",
    "user_spec.purpose.unique()"
   ]
  },
  {
   "cell_type": "code",
   "execution_count": 16,
   "id": "323b1c59",
   "metadata": {},
   "outputs": [
    {
     "data": {
      "text/plain": [
       "array(['기타', '대환대출', '생활비', '사업자금', '주택구입', '전월세보증금', '투자', '자동차구입'],\n",
       "      dtype=object)"
      ]
     },
     "execution_count": 16,
     "metadata": {},
     "output_type": "execute_result"
    }
   ],
   "source": [
    "user_spec.purpose = user_spec.purpose.replace(['LIVING', 'ETC', 'HOUSEDEPOSIT', 'BUYHOUSE', 'BUYCAR', 'INVEST', 'BUSINESS', 'SWITCHLOAN'],\n",
    "                  ['생활비', '기타', '전월세보증금', '주택구입', '자동차구입', '투자', '사업자금', '대환대출'])\n",
    "user_spec.purpose.unique()"
   ]
  },
  {
   "cell_type": "markdown",
   "id": "4896508c",
   "metadata": {},
   "source": [
    "#### user_spec + loan_result table merge and data split\n",
    "- user_spec과 loan_result table을 합치고, train, valid, test 데이터를 3월(30%), 4월(30%), 5월(40%)을 계통으로 하여 valid 20000개, test 20000개 분리"
   ]
  },
  {
   "cell_type": "code",
   "execution_count": 17,
   "id": "218b15c3",
   "metadata": {},
   "outputs": [],
   "source": [
    "# bank_id == 16 인 데이터 삭제\n",
    "loan_result = loan_result[~(loan_result.bank_id == 16)]"
   ]
  },
  {
   "cell_type": "code",
   "execution_count": 18,
   "id": "221eb6c1",
   "metadata": {},
   "outputs": [
    {
     "name": "stdout",
     "output_type": "stream",
     "text": [
      "(13527229, 23)\n",
      "application_id                               0\n",
      "loanapply_insert_time                        0\n",
      "bank_id                                      0\n",
      "product_id                                   0\n",
      "loan_limit                                7382\n",
      "loan_rate                                 7382\n",
      "is_applied                             3257239\n",
      "user_id                                      0\n",
      "gender                                  128096\n",
      "insert_time                                  0\n",
      "credit_score                           1509274\n",
      "yearly_income                                0\n",
      "income_type                                  0\n",
      "employment_type                              0\n",
      "houseown_type                                0\n",
      "desired_amount                               0\n",
      "purpose                                      0\n",
      "personal_rehabilitation_yn                   0\n",
      "personal_rehabilitation_complete_yn          0\n",
      "existing_loan_cnt                            0\n",
      "existing_loan_amt                      1204443\n",
      "employment_period                       400337\n",
      "age                                     128096\n",
      "dtype: int64\n"
     ]
    },
    {
     "data": {
      "text/html": [
       "<div>\n",
       "<style scoped>\n",
       "    .dataframe tbody tr th:only-of-type {\n",
       "        vertical-align: middle;\n",
       "    }\n",
       "\n",
       "    .dataframe tbody tr th {\n",
       "        vertical-align: top;\n",
       "    }\n",
       "\n",
       "    .dataframe thead th {\n",
       "        text-align: right;\n",
       "    }\n",
       "</style>\n",
       "<table border=\"1\" class=\"dataframe\">\n",
       "  <thead>\n",
       "    <tr style=\"text-align: right;\">\n",
       "      <th></th>\n",
       "      <th>application_id</th>\n",
       "      <th>loanapply_insert_time</th>\n",
       "      <th>bank_id</th>\n",
       "      <th>product_id</th>\n",
       "      <th>loan_limit</th>\n",
       "      <th>loan_rate</th>\n",
       "      <th>is_applied</th>\n",
       "      <th>user_id</th>\n",
       "      <th>gender</th>\n",
       "      <th>insert_time</th>\n",
       "      <th>...</th>\n",
       "      <th>employment_type</th>\n",
       "      <th>houseown_type</th>\n",
       "      <th>desired_amount</th>\n",
       "      <th>purpose</th>\n",
       "      <th>personal_rehabilitation_yn</th>\n",
       "      <th>personal_rehabilitation_complete_yn</th>\n",
       "      <th>existing_loan_cnt</th>\n",
       "      <th>existing_loan_amt</th>\n",
       "      <th>employment_period</th>\n",
       "      <th>age</th>\n",
       "    </tr>\n",
       "  </thead>\n",
       "  <tbody>\n",
       "    <tr>\n",
       "      <th>0</th>\n",
       "      <td>1748340</td>\n",
       "      <td>2022-06-07 13:05:41</td>\n",
       "      <td>7</td>\n",
       "      <td>191</td>\n",
       "      <td>42000000.0</td>\n",
       "      <td>13.6</td>\n",
       "      <td>NaN</td>\n",
       "      <td>430982</td>\n",
       "      <td>1.0</td>\n",
       "      <td>2022-06-07 13:05:39</td>\n",
       "      <td>...</td>\n",
       "      <td>정규직</td>\n",
       "      <td>자가</td>\n",
       "      <td>25000000.0</td>\n",
       "      <td>대환대출</td>\n",
       "      <td>0.0</td>\n",
       "      <td>0.0</td>\n",
       "      <td>2.0</td>\n",
       "      <td>15000000.0</td>\n",
       "      <td>126.0</td>\n",
       "      <td>26.0</td>\n",
       "    </tr>\n",
       "    <tr>\n",
       "      <th>1</th>\n",
       "      <td>1748340</td>\n",
       "      <td>2022-06-07 13:05:41</td>\n",
       "      <td>25</td>\n",
       "      <td>169</td>\n",
       "      <td>24000000.0</td>\n",
       "      <td>17.9</td>\n",
       "      <td>NaN</td>\n",
       "      <td>430982</td>\n",
       "      <td>1.0</td>\n",
       "      <td>2022-06-07 13:05:39</td>\n",
       "      <td>...</td>\n",
       "      <td>정규직</td>\n",
       "      <td>자가</td>\n",
       "      <td>25000000.0</td>\n",
       "      <td>대환대출</td>\n",
       "      <td>0.0</td>\n",
       "      <td>0.0</td>\n",
       "      <td>2.0</td>\n",
       "      <td>15000000.0</td>\n",
       "      <td>126.0</td>\n",
       "      <td>26.0</td>\n",
       "    </tr>\n",
       "    <tr>\n",
       "      <th>2</th>\n",
       "      <td>1748340</td>\n",
       "      <td>2022-06-07 13:05:41</td>\n",
       "      <td>2</td>\n",
       "      <td>7</td>\n",
       "      <td>24000000.0</td>\n",
       "      <td>18.5</td>\n",
       "      <td>NaN</td>\n",
       "      <td>430982</td>\n",
       "      <td>1.0</td>\n",
       "      <td>2022-06-07 13:05:39</td>\n",
       "      <td>...</td>\n",
       "      <td>정규직</td>\n",
       "      <td>자가</td>\n",
       "      <td>25000000.0</td>\n",
       "      <td>대환대출</td>\n",
       "      <td>0.0</td>\n",
       "      <td>0.0</td>\n",
       "      <td>2.0</td>\n",
       "      <td>15000000.0</td>\n",
       "      <td>126.0</td>\n",
       "      <td>26.0</td>\n",
       "    </tr>\n",
       "    <tr>\n",
       "      <th>3</th>\n",
       "      <td>1748340</td>\n",
       "      <td>2022-06-07 13:05:41</td>\n",
       "      <td>4</td>\n",
       "      <td>268</td>\n",
       "      <td>29000000.0</td>\n",
       "      <td>10.8</td>\n",
       "      <td>NaN</td>\n",
       "      <td>430982</td>\n",
       "      <td>1.0</td>\n",
       "      <td>2022-06-07 13:05:39</td>\n",
       "      <td>...</td>\n",
       "      <td>정규직</td>\n",
       "      <td>자가</td>\n",
       "      <td>25000000.0</td>\n",
       "      <td>대환대출</td>\n",
       "      <td>0.0</td>\n",
       "      <td>0.0</td>\n",
       "      <td>2.0</td>\n",
       "      <td>15000000.0</td>\n",
       "      <td>126.0</td>\n",
       "      <td>26.0</td>\n",
       "    </tr>\n",
       "    <tr>\n",
       "      <th>4</th>\n",
       "      <td>1748340</td>\n",
       "      <td>2022-06-07 13:05:41</td>\n",
       "      <td>11</td>\n",
       "      <td>118</td>\n",
       "      <td>5000000.0</td>\n",
       "      <td>16.4</td>\n",
       "      <td>NaN</td>\n",
       "      <td>430982</td>\n",
       "      <td>1.0</td>\n",
       "      <td>2022-06-07 13:05:39</td>\n",
       "      <td>...</td>\n",
       "      <td>정규직</td>\n",
       "      <td>자가</td>\n",
       "      <td>25000000.0</td>\n",
       "      <td>대환대출</td>\n",
       "      <td>0.0</td>\n",
       "      <td>0.0</td>\n",
       "      <td>2.0</td>\n",
       "      <td>15000000.0</td>\n",
       "      <td>126.0</td>\n",
       "      <td>26.0</td>\n",
       "    </tr>\n",
       "  </tbody>\n",
       "</table>\n",
       "<p>5 rows × 23 columns</p>\n",
       "</div>"
      ],
      "text/plain": [
       "   application_id loanapply_insert_time  bank_id  product_id  loan_limit  \\\n",
       "0         1748340   2022-06-07 13:05:41        7         191  42000000.0   \n",
       "1         1748340   2022-06-07 13:05:41       25         169  24000000.0   \n",
       "2         1748340   2022-06-07 13:05:41        2           7  24000000.0   \n",
       "3         1748340   2022-06-07 13:05:41        4         268  29000000.0   \n",
       "4         1748340   2022-06-07 13:05:41       11         118   5000000.0   \n",
       "\n",
       "   loan_rate  is_applied  user_id  gender         insert_time  ...  \\\n",
       "0       13.6         NaN   430982     1.0 2022-06-07 13:05:39  ...   \n",
       "1       17.9         NaN   430982     1.0 2022-06-07 13:05:39  ...   \n",
       "2       18.5         NaN   430982     1.0 2022-06-07 13:05:39  ...   \n",
       "3       10.8         NaN   430982     1.0 2022-06-07 13:05:39  ...   \n",
       "4       16.4         NaN   430982     1.0 2022-06-07 13:05:39  ...   \n",
       "\n",
       "   employment_type  houseown_type desired_amount purpose  \\\n",
       "0              정규직             자가     25000000.0    대환대출   \n",
       "1              정규직             자가     25000000.0    대환대출   \n",
       "2              정규직             자가     25000000.0    대환대출   \n",
       "3              정규직             자가     25000000.0    대환대출   \n",
       "4              정규직             자가     25000000.0    대환대출   \n",
       "\n",
       "  personal_rehabilitation_yn  personal_rehabilitation_complete_yn  \\\n",
       "0                        0.0                                  0.0   \n",
       "1                        0.0                                  0.0   \n",
       "2                        0.0                                  0.0   \n",
       "3                        0.0                                  0.0   \n",
       "4                        0.0                                  0.0   \n",
       "\n",
       "  existing_loan_cnt  existing_loan_amt  employment_period   age  \n",
       "0               2.0         15000000.0              126.0  26.0  \n",
       "1               2.0         15000000.0              126.0  26.0  \n",
       "2               2.0         15000000.0              126.0  26.0  \n",
       "3               2.0         15000000.0              126.0  26.0  \n",
       "4               2.0         15000000.0              126.0  26.0  \n",
       "\n",
       "[5 rows x 23 columns]"
      ]
     },
     "execution_count": 18,
     "metadata": {},
     "output_type": "execute_result"
    }
   ],
   "source": [
    "# loan_result랑 merge\n",
    "user_loan = pd.merge(loan_result, user_spec, on = 'application_id')\n",
    "print(user_loan.shape)\n",
    "print(user_loan.isna().sum())\n",
    "user_loan.head()"
   ]
  },
  {
   "cell_type": "code",
   "execution_count": 19,
   "id": "d881b4c4",
   "metadata": {},
   "outputs": [],
   "source": [
    "# month, day 변수 생성 (loanapply_insert_time 기준)\n",
    "user_loan['month'] = user_loan['loanapply_insert_time'].dt.month\n",
    "user_loan['day'] = user_loan['loanapply_insert_time'].dt.day"
   ]
  },
  {
   "cell_type": "code",
   "execution_count": 20,
   "id": "e447e700",
   "metadata": {},
   "outputs": [],
   "source": [
    "# 6월인 데이터 real_6month.pkl로 저장\n",
    "real_6month = user_loan[user_loan.month == 6]"
   ]
  },
  {
   "cell_type": "code",
   "execution_count": 21,
   "id": "f3679f12",
   "metadata": {},
   "outputs": [],
   "source": [
    "# 6월인 데이터 제외\n",
    "user_loan = user_loan[user_loan.month != 6]"
   ]
  },
  {
   "cell_type": "code",
   "execution_count": 22,
   "id": "b7eaebcc",
   "metadata": {},
   "outputs": [],
   "source": [
    "# train, valid(20000), test(20000) split"
   ]
  },
  {
   "cell_type": "code",
   "execution_count": 23,
   "id": "10aca61b",
   "metadata": {},
   "outputs": [],
   "source": [
    "# idx 생성\n",
    "np.random.seed(1004)\n",
    "num3 = (user_loan.month == 3).sum()\n",
    "num4 = (user_loan.month == 4).sum()\n",
    "num5 = (user_loan.month == 5).sum()\n",
    "idx3 = np.random.choice(num3, size = 12000, replace = False)\n",
    "idx4 = np.random.choice(num4, size = 12000, replace = False)\n",
    "idx5 = np.random.choice(num5, size = 16000, replace = False)\n",
    "not_idx3 = np.array(list(set(range(num3)) - set(idx3)))\n",
    "not_idx4 = np.array(list(set(range(num4)) - set(idx4)))\n",
    "not_idx5 = np.array(list(set(range(num5)) - set(idx5)))"
   ]
  },
  {
   "cell_type": "code",
   "execution_count": 24,
   "id": "65f1e14a",
   "metadata": {},
   "outputs": [
    {
     "name": "stdout",
     "output_type": "stream",
     "text": [
      "(10229990, 25)\n",
      "(20000, 25)\n",
      "(20000, 25)\n"
     ]
    }
   ],
   "source": [
    "# train, valid, test 분리\n",
    "train3 = user_loan[user_loan.month == 3].iloc[not_idx3]\n",
    "train4 = user_loan[user_loan.month == 4].iloc[not_idx4]\n",
    "train5 = user_loan[user_loan.month == 5].iloc[not_idx5]\n",
    "valid3 = user_loan[user_loan.month == 3].iloc[idx3[:6000]]\n",
    "valid4 = user_loan[user_loan.month == 4].iloc[idx4[:6000]]\n",
    "valid5 = user_loan[user_loan.month == 5].iloc[idx5[:8000]]\n",
    "test3 = user_loan[user_loan.month == 3].iloc[idx3[6000:]]\n",
    "test4 = user_loan[user_loan.month == 4].iloc[idx4[6000:]]\n",
    "test5 = user_loan[user_loan.month == 5].iloc[idx5[8000:]]\n",
    "real_train = pd.concat([train3, train4, train5])\n",
    "real_valid = pd.concat([valid3, valid4, valid5])\n",
    "real_test = pd.concat([test3, test4, test5])\n",
    "print(real_train.shape)\n",
    "print(real_valid.shape)\n",
    "print(real_test.shape)"
   ]
  },
  {
   "cell_type": "code",
   "execution_count": 25,
   "id": "de4656c3",
   "metadata": {
    "scrolled": true
   },
   "outputs": [
    {
     "data": {
      "text/plain": [
       "55"
      ]
     },
     "execution_count": 25,
     "metadata": {},
     "output_type": "execute_result"
    }
   ],
   "source": [
    "del idx3\n",
    "del idx4\n",
    "del idx5\n",
    "del not_idx3\n",
    "del not_idx4\n",
    "del not_idx5\n",
    "del train3\n",
    "del train4\n",
    "del train5\n",
    "del valid3\n",
    "del valid4\n",
    "del valid5\n",
    "del test3\n",
    "del test4\n",
    "del test5\n",
    "gc.collect()"
   ]
  },
  {
   "cell_type": "code",
   "execution_count": 26,
   "id": "8def6032",
   "metadata": {},
   "outputs": [
    {
     "name": "stdout",
     "output_type": "stream",
     "text": [
      "61\n",
      "61\n",
      "61\n",
      "61\n",
      "3\n",
      "3\n",
      "3\n",
      "3\n",
      "4\n",
      "4\n",
      "4\n",
      "4\n",
      "4\n",
      "4\n",
      "4\n",
      "4\n",
      "8\n",
      "8\n",
      "8\n",
      "8\n"
     ]
    }
   ],
   "source": [
    "# 범주형 변수 개수 동일한지 확인 -> 맞음\n",
    "# bank_id\n",
    "print(len(real_train.bank_id.unique()))\n",
    "print(len(real_valid.bank_id.unique()))\n",
    "print(len(real_test.bank_id.unique()))\n",
    "print(len(real_6month.bank_id.unique()))\n",
    "# gender\n",
    "print(len(real_train.gender.unique()))\n",
    "print(len(real_valid.gender.unique()))\n",
    "print(len(real_test.gender.unique()))\n",
    "print(len(real_6month.gender.unique()))\n",
    "# employment_type\n",
    "print(len(real_train.employment_type.unique()))\n",
    "print(len(real_valid.employment_type.unique()))\n",
    "print(len(real_test.employment_type.unique()))\n",
    "print(len(real_6month.employment_type.unique()))\n",
    "# houseown_type\n",
    "print(len(real_train.houseown_type.unique()))\n",
    "print(len(real_valid.houseown_type.unique()))\n",
    "print(len(real_test.houseown_type.unique()))\n",
    "print(len(real_6month.houseown_type.unique()))\n",
    "# purpose\n",
    "print(len(real_train.purpose.unique()))\n",
    "print(len(real_valid.purpose.unique()))\n",
    "print(len(real_test.purpose.unique()))\n",
    "print(len(real_6month.purpose.unique()))"
   ]
  },
  {
   "cell_type": "code",
   "execution_count": 27,
   "id": "95411f1b",
   "metadata": {},
   "outputs": [],
   "source": [
    "# get_dummies\n",
    "cat_features = ['income_type', 'employment_type', 'houseown_type', 'purpose']\n",
    "real_train = pd.get_dummies(real_train, prefix_sep = \"_\", columns = cat_features, drop_first = True)\n",
    "real_valid = pd.get_dummies(real_valid, prefix_sep = \"_\", columns = cat_features, drop_first = True)\n",
    "real_test = pd.get_dummies(real_test, prefix_sep = \"_\", columns = cat_features, drop_first = True)\n",
    "real_6month = pd.get_dummies(real_6month, prefix_sep = \"_\", columns = cat_features, drop_first = True)"
   ]
  },
  {
   "cell_type": "code",
   "execution_count": 28,
   "id": "728c6241",
   "metadata": {},
   "outputs": [],
   "source": [
    "real_train.to_pickle('./결측치처리data/real_train.pkl')\n",
    "real_valid.to_pickle('./결측치처리data/real_valid.pkl')\n",
    "real_test.to_pickle('./결측치처리data/real_test.pkl')\n",
    "real_6month.to_pickle('./결측치처리data/real_6month.pkl')"
   ]
  },
  {
   "cell_type": "code",
   "execution_count": 29,
   "id": "a197b78b",
   "metadata": {},
   "outputs": [
    {
     "data": {
      "text/plain": [
       "48"
      ]
     },
     "execution_count": 29,
     "metadata": {},
     "output_type": "execute_result"
    }
   ],
   "source": [
    "del cat_features\n",
    "del real_6month\n",
    "del real_test\n",
    "gc.collect()"
   ]
  },
  {
   "cell_type": "markdown",
   "id": "74708139",
   "metadata": {},
   "source": [
    "#### train과 valid에서 결측 있는 데이터와 없는 데이터로 나누기"
   ]
  },
  {
   "cell_type": "code",
   "execution_count": 30,
   "id": "f0ab09cd",
   "metadata": {},
   "outputs": [],
   "source": [
    "train_full = real_train[real_train.isna().sum(axis=1) == 0] # 결측이 없는 데이터\n",
    "train_null = real_train[~(real_train.isna().sum(axis=1) == 0)] # 결측이 있는 데이터\n",
    "valid_full = real_valid[real_valid.isna().sum(axis=1) == 0]\n",
    "valid_null = real_valid[~(real_valid.isna().sum(axis=1) == 0)]"
   ]
  },
  {
   "cell_type": "code",
   "execution_count": 31,
   "id": "dc2f6bc7",
   "metadata": {},
   "outputs": [],
   "source": [
    "train_full.to_pickle('./결측치처리data/train_full.pkl')\n",
    "train_null.to_pickle('./결측치처리data/train_null.pkl')\n",
    "valid_full.to_pickle('./결측치처리data/valid_full.pkl')\n",
    "valid_null.to_pickle('./결측치처리data/valid_null.pkl')"
   ]
  },
  {
   "cell_type": "code",
   "execution_count": 32,
   "id": "29c1661b",
   "metadata": {},
   "outputs": [
    {
     "data": {
      "text/plain": [
       "48"
      ]
     },
     "execution_count": 32,
     "metadata": {},
     "output_type": "execute_result"
    }
   ],
   "source": [
    "del train_null\n",
    "del valid_null\n",
    "gc.collect()"
   ]
  },
  {
   "cell_type": "markdown",
   "id": "180ead06",
   "metadata": {},
   "source": [
    "#### 기준 모델 성능 측정\n",
    "- train_full, valid_full을 기준으로 rf 모델 성능 측정"
   ]
  },
  {
   "cell_type": "code",
   "execution_count": null,
   "id": "53ff24ce",
   "metadata": {},
   "outputs": [],
   "source": []
  },
  {
   "cell_type": "code",
   "execution_count": null,
   "id": "55d57aeb",
   "metadata": {},
   "outputs": [],
   "source": []
  },
  {
   "cell_type": "markdown",
   "id": "1b7b74d0",
   "metadata": {},
   "source": [
    "#### train_full과 valid_full에 임의로 결측 생성"
   ]
  },
  {
   "cell_type": "code",
   "execution_count": 33,
   "id": "fcb28b6b",
   "metadata": {},
   "outputs": [
    {
     "name": "stdout",
     "output_type": "stream",
     "text": [
      "(1394012, 17)\n",
      "gender/age nan ratio :  0.00929618970281461\n",
      "credit_score nan ratio :  0.07533220660941226\n",
      "amt nan ratio :  0.08260187143295754\n",
      "employment_period nan ratio :  0.12308215424257467\n"
     ]
    }
   ],
   "source": [
    "#위에서 실행\n",
    "print(user_spec.shape)\n",
    "user_spec.isna().sum()\n",
    "\n",
    "gen_nan_n = user_spec.gender.isna().sum() / user_spec.shape[0]\n",
    "credit_nan_n = user_spec.credit_score.isna().sum() / user_spec.shape[0]\n",
    "amt_nan_n = user_spec.existing_loan_amt.isna().sum() / user_spec.shape[0]\n",
    "emp_nan_n = user_spec.employment_period.isna().sum() / user_spec.shape[0]\n",
    "\n",
    "print(\"gender/age nan ratio : \", gen_nan_n)\n",
    "print(\"credit_score nan ratio : \", credit_nan_n)\n",
    "print(\"amt nan ratio : \", amt_nan_n)\n",
    "print(\"employment_period nan ratio : \", emp_nan_n)"
   ]
  },
  {
   "cell_type": "code",
   "execution_count": 34,
   "id": "fbc86efc",
   "metadata": {},
   "outputs": [
    {
     "name": "stdout",
     "output_type": "stream",
     "text": [
      "[8, 10, 16, 17, 18]\n"
     ]
    },
    {
     "data": {
      "text/plain": [
       "{'gender': 8, 'credit': 10, 'amt': 16, 'emp': 17, 'age': 18}"
      ]
     },
     "execution_count": 34,
     "metadata": {},
     "output_type": "execute_result"
    }
   ],
   "source": [
    "# nan으로 바꿀 feature index 생성\n",
    "missing_feature_idx = [np.where(train_full.columns == 'gender')[0][0],\n",
    " np.where(train_full.columns == 'credit_score')[0][0],\n",
    " np.where(train_full.columns == 'existing_loan_amt')[0][0],\n",
    " np.where(train_full.columns == 'employment_period')[0][0],\n",
    " np.where(train_full.columns == 'age')[0][0]]\n",
    "print(missing_feature_idx)\n",
    "\n",
    "ft_dic = {}\n",
    "ft_dic[\"gender\"] = missing_feature_idx[0]\n",
    "ft_dic[\"credit\"] = missing_feature_idx[1]\n",
    "ft_dic[\"amt\"] = missing_feature_idx[2]\n",
    "ft_dic[\"emp\"] = missing_feature_idx[3]\n",
    "ft_dic[\"age\"] = missing_feature_idx[4]\n",
    "ft_dic"
   ]
  },
  {
   "cell_type": "code",
   "execution_count": 35,
   "id": "9d4fd32b",
   "metadata": {},
   "outputs": [],
   "source": [
    "# trian_full - nan으로 바꿀 행 index 생성\n",
    "np.random.seed(1004)\n",
    "n_samples = train_full.shape[0]\n",
    "idx_gen = np.random.choice(n_samples, size = int(np.ceil(n_samples * gen_nan_n)), replace = False) #age\n",
    "idx_credit = np.random.choice(n_samples, size = int(np.ceil(n_samples * credit_nan_n)), replace = False)\n",
    "idx_amt = np.random.choice(n_samples, size = int(np.ceil(n_samples * amt_nan_n)), replace = False)\n",
    "idx_emp = np.random.choice(n_samples, size = int(np.ceil(n_samples * emp_nan_n)), replace = False)"
   ]
  },
  {
   "cell_type": "code",
   "execution_count": 36,
   "id": "7766cd76",
   "metadata": {},
   "outputs": [],
   "source": [
    "# 결측치 생성\n",
    "train_full.iloc[idx_gen, ft_dic['gender']] = np.nan\n",
    "train_full.iloc[idx_gen, ft_dic['age']] = np.nan\n",
    "train_full.iloc[idx_credit, ft_dic['credit']] = np.nan\n",
    "train_full.iloc[idx_amt, ft_dic['amt']] = np.nan\n",
    "train_full.iloc[idx_emp, ft_dic['emp']] = np.nan"
   ]
  },
  {
   "cell_type": "code",
   "execution_count": 37,
   "id": "e901ad25",
   "metadata": {},
   "outputs": [
    {
     "data": {
      "text/plain": [
       "application_id                              0\n",
       "loanapply_insert_time                       0\n",
       "bank_id                                     0\n",
       "product_id                                  0\n",
       "loan_limit                                  0\n",
       "loan_rate                                   0\n",
       "is_applied                                  0\n",
       "user_id                                     0\n",
       "gender                                  72713\n",
       "insert_time                                 0\n",
       "credit_score                           589232\n",
       "yearly_income                               0\n",
       "desired_amount                              0\n",
       "personal_rehabilitation_yn                  0\n",
       "personal_rehabilitation_complete_yn         0\n",
       "existing_loan_cnt                           0\n",
       "existing_loan_amt                      646094\n",
       "employment_period                      962721\n",
       "age                                     72713\n",
       "month                                       0\n",
       "day                                         0\n",
       "income_type_EARNEDINCOME2                   0\n",
       "income_type_FREELANCER                      0\n",
       "income_type_OTHERINCOME                     0\n",
       "income_type_PRACTITIONER                    0\n",
       "income_type_PRIVATEBUSINESS                 0\n",
       "employment_type_기타                          0\n",
       "employment_type_일용직                         0\n",
       "employment_type_정규직                         0\n",
       "houseown_type_배우자                           0\n",
       "houseown_type_자가                            0\n",
       "houseown_type_전월세                           0\n",
       "purpose_대환대출                                0\n",
       "purpose_사업자금                                0\n",
       "purpose_생활비                                 0\n",
       "purpose_자동차구입                               0\n",
       "purpose_전월세보증금                              0\n",
       "purpose_주택구입                                0\n",
       "purpose_투자                                  0\n",
       "dtype: int64"
      ]
     },
     "execution_count": 37,
     "metadata": {},
     "output_type": "execute_result"
    }
   ],
   "source": [
    "train_full.isna().sum()"
   ]
  },
  {
   "cell_type": "code",
   "execution_count": 38,
   "id": "932d1ad5",
   "metadata": {},
   "outputs": [],
   "source": [
    "# valid_full - nan으로 바꿀 행 index 생성\n",
    "np.random.seed(1004)\n",
    "n_samples = valid_full.shape[0]\n",
    "idx_gen = np.random.choice(n_samples, size = int(np.ceil(n_samples * gen_nan_n)), replace = False) #age\n",
    "idx_credit = np.random.choice(n_samples, size = int(np.ceil(n_samples * credit_nan_n)), replace = False)\n",
    "idx_amt = np.random.choice(n_samples, size = int(np.ceil(n_samples * amt_nan_n)), replace = False)\n",
    "idx_emp = np.random.choice(n_samples, size = int(np.ceil(n_samples * emp_nan_n)), replace = False)"
   ]
  },
  {
   "cell_type": "code",
   "execution_count": 39,
   "id": "c80663ff",
   "metadata": {},
   "outputs": [],
   "source": [
    "# 결측치 생성\n",
    "valid_full.iloc[idx_gen, ft_dic['gender']] = np.nan\n",
    "valid_full.iloc[idx_gen, ft_dic['age']] = np.nan\n",
    "valid_full.iloc[idx_credit, ft_dic['credit']] = np.nan\n",
    "valid_full.iloc[idx_amt, ft_dic['amt']] = np.nan\n",
    "valid_full.iloc[idx_emp, ft_dic['emp']] = np.nan"
   ]
  },
  {
   "cell_type": "code",
   "execution_count": 40,
   "id": "d1a267e7",
   "metadata": {},
   "outputs": [
    {
     "data": {
      "text/plain": [
       "application_id                            0\n",
       "loanapply_insert_time                     0\n",
       "bank_id                                   0\n",
       "product_id                                0\n",
       "loan_limit                                0\n",
       "loan_rate                                 0\n",
       "is_applied                                0\n",
       "user_id                                   0\n",
       "gender                                  143\n",
       "insert_time                               0\n",
       "credit_score                           1151\n",
       "yearly_income                             0\n",
       "desired_amount                            0\n",
       "personal_rehabilitation_yn                0\n",
       "personal_rehabilitation_complete_yn       0\n",
       "existing_loan_cnt                         0\n",
       "existing_loan_amt                      1262\n",
       "employment_period                      1881\n",
       "age                                     143\n",
       "month                                     0\n",
       "day                                       0\n",
       "income_type_EARNEDINCOME2                 0\n",
       "income_type_FREELANCER                    0\n",
       "income_type_OTHERINCOME                   0\n",
       "income_type_PRACTITIONER                  0\n",
       "income_type_PRIVATEBUSINESS               0\n",
       "employment_type_기타                        0\n",
       "employment_type_일용직                       0\n",
       "employment_type_정규직                       0\n",
       "houseown_type_배우자                         0\n",
       "houseown_type_자가                          0\n",
       "houseown_type_전월세                         0\n",
       "purpose_대환대출                              0\n",
       "purpose_사업자금                              0\n",
       "purpose_생활비                               0\n",
       "purpose_자동차구입                             0\n",
       "purpose_전월세보증금                            0\n",
       "purpose_주택구입                              0\n",
       "purpose_투자                                0\n",
       "dtype: int64"
      ]
     },
     "execution_count": 40,
     "metadata": {},
     "output_type": "execute_result"
    }
   ],
   "source": [
    "valid_full.isna().sum()"
   ]
  },
  {
   "cell_type": "code",
   "execution_count": 41,
   "id": "934058b1",
   "metadata": {},
   "outputs": [],
   "source": [
    "train_full.to_pickle('./결측치처리data/train_full_null.pkl')\n",
    "valid_full.to_pickle('./결측치처리data/valid_full_null.pkl')"
   ]
  },
  {
   "cell_type": "markdown",
   "id": "eca4c041",
   "metadata": {},
   "source": [
    "#### impute 모델 훈련"
   ]
  },
  {
   "cell_type": "code",
   "execution_count": null,
   "id": "cfe088d3",
   "metadata": {},
   "outputs": [],
   "source": [
    "# 아래 코드에서 train_full은 train_full_null.pkl의 데이터를 의미한다.\n",
    "# 아래 코드에서 valid_full은 valid_full_null.pkl의 데이터를 의미한다.\n",
    "train_full = pd.read_pickle('./결측치처리data/train_full_null.pkl')\n",
    "valid_full = pd.read_pickle('./결측치처리data/valid_full_null.pkl')"
   ]
  },
  {
   "cell_type": "code",
   "execution_count": 42,
   "id": "389163bb",
   "metadata": {
    "scrolled": true
   },
   "outputs": [
    {
     "name": "stdout",
     "output_type": "stream",
     "text": [
      "<class 'pandas.core.frame.DataFrame'>\n",
      "Int64Index: 7821772 entries, 68377 to 13519556\n",
      "Data columns (total 39 columns):\n",
      " #   Column                               Dtype         \n",
      "---  ------                               -----         \n",
      " 0   application_id                       int64         \n",
      " 1   loanapply_insert_time                datetime64[ns]\n",
      " 2   bank_id                              int64         \n",
      " 3   product_id                           int64         \n",
      " 4   loan_limit                           float64       \n",
      " 5   loan_rate                            float64       \n",
      " 6   is_applied                           float64       \n",
      " 7   user_id                              int64         \n",
      " 8   gender                               float64       \n",
      " 9   insert_time                          datetime64[ns]\n",
      " 10  credit_score                         float64       \n",
      " 11  yearly_income                        float64       \n",
      " 12  desired_amount                       float64       \n",
      " 13  personal_rehabilitation_yn           float64       \n",
      " 14  personal_rehabilitation_complete_yn  float64       \n",
      " 15  existing_loan_cnt                    float64       \n",
      " 16  existing_loan_amt                    float64       \n",
      " 17  employment_period                    float64       \n",
      " 18  age                                  float64       \n",
      " 19  month                                int64         \n",
      " 20  day                                  int64         \n",
      " 21  income_type_EARNEDINCOME2            uint8         \n",
      " 22  income_type_FREELANCER               uint8         \n",
      " 23  income_type_OTHERINCOME              uint8         \n",
      " 24  income_type_PRACTITIONER             uint8         \n",
      " 25  income_type_PRIVATEBUSINESS          uint8         \n",
      " 26  employment_type_기타                   uint8         \n",
      " 27  employment_type_일용직                  uint8         \n",
      " 28  employment_type_정규직                  uint8         \n",
      " 29  houseown_type_배우자                    uint8         \n",
      " 30  houseown_type_자가                     uint8         \n",
      " 31  houseown_type_전월세                    uint8         \n",
      " 32  purpose_대환대출                         uint8         \n",
      " 33  purpose_사업자금                         uint8         \n",
      " 34  purpose_생활비                          uint8         \n",
      " 35  purpose_자동차구입                        uint8         \n",
      " 36  purpose_전월세보증금                       uint8         \n",
      " 37  purpose_주택구입                         uint8         \n",
      " 38  purpose_투자                           uint8         \n",
      "dtypes: datetime64[ns](2), float64(13), int64(6), uint8(18)\n",
      "memory usage: 1.4 GB\n"
     ]
    }
   ],
   "source": [
    "train_full.info()"
   ]
  },
  {
   "cell_type": "code",
   "execution_count": 43,
   "id": "7033c676",
   "metadata": {},
   "outputs": [],
   "source": [
    "drop_columns = ['application_id', 'loanapply_insert_time', 'bank_id','product_id',\n",
    "                 'loan_limit', 'loan_rate', 'is_applied', 'user_id', 'gender',\n",
    "                 'insert_time','month','day']\n",
    "train_for_impute = train_full.drop(columns = drop_columns).drop_duplicates(keep = 'first')\n",
    "train_for_impute_col_name = train_for_impute.columns"
   ]
  },
  {
   "cell_type": "markdown",
   "id": "a4c796b7",
   "metadata": {},
   "source": [
    "- linear_reg(n_nearest_features = None)"
   ]
  },
  {
   "cell_type": "code",
   "execution_count": 44,
   "id": "57092699",
   "metadata": {},
   "outputs": [
    {
     "name": "stdout",
     "output_type": "stream",
     "text": [
      "0:04:15.931631\n"
     ]
    }
   ],
   "source": [
    "start = time.time()\n",
    "imp = IterativeImputer(estimator = LinearRegression(), max_iter=200, tol=1e-10\n",
    "                    ,skip_complete = True, random_state = 1004, min_value = 0)\n",
    "imp.fit(train_for_impute)\n",
    "end = time.time()\n",
    "print(datetime.timedelta(seconds = end-start))"
   ]
  },
  {
   "cell_type": "code",
   "execution_count": 45,
   "id": "9bc5ce1e",
   "metadata": {},
   "outputs": [],
   "source": [
    "imp_train = imp.transform(train_full.drop(columns = drop_columns))\n",
    "imp_valid = imp.transform(valid_full.drop(columns = drop_columns))"
   ]
  },
  {
   "cell_type": "code",
   "execution_count": 46,
   "id": "035a0ad0",
   "metadata": {},
   "outputs": [],
   "source": [
    "imp_train = pd.DataFrame(columns = train_for_impute_col_name, index = train_full.index, data = imp_train)\n",
    "imp_valid = pd.DataFrame(columns = train_for_impute_col_name, index = valid_full.index, data = imp_valid)"
   ]
  },
  {
   "cell_type": "code",
   "execution_count": 47,
   "id": "d91ad20e",
   "metadata": {},
   "outputs": [],
   "source": [
    "imp_train =  pd.concat([imp_train, train_full.loc[:,drop_columns]])\n",
    "imp_valid = pd.concat([imp_valid, valid_full.loc[:, drop_columns]])"
   ]
  },
  {
   "cell_type": "code",
   "execution_count": 48,
   "id": "dea7f1e3",
   "metadata": {},
   "outputs": [],
   "source": [
    "imp_train.to_pickle('./결측치처리data/train_impute_lr_n.pkl')\n",
    "imp_valid.to_pickle('./결측치처리data/valid_impute_lr_n.pkl')"
   ]
  },
  {
   "cell_type": "code",
   "execution_count": 49,
   "id": "a4904dfc",
   "metadata": {},
   "outputs": [
    {
     "data": {
      "text/plain": [
       "80"
      ]
     },
     "execution_count": 49,
     "metadata": {},
     "output_type": "execute_result"
    }
   ],
   "source": [
    "del imp\n",
    "del imp_train\n",
    "del imp_valid\n",
    "gc.collect()"
   ]
  },
  {
   "cell_type": "markdown",
   "id": "baf25a1e",
   "metadata": {},
   "source": [
    "- linear_reg(n_nearest_features = 10)"
   ]
  },
  {
   "cell_type": "code",
   "execution_count": 50,
   "id": "8106ddba",
   "metadata": {},
   "outputs": [
    {
     "name": "stderr",
     "output_type": "stream",
     "text": [
      "C:\\Users\\82104\\anaconda3\\lib\\site-packages\\sklearn\\impute\\_iterative.py:699: ConvergenceWarning: [IterativeImputer] Early stopping criterion not reached.\n",
      "  warnings.warn(\n"
     ]
    },
    {
     "name": "stdout",
     "output_type": "stream",
     "text": [
      "0:27:28.679890\n"
     ]
    }
   ],
   "source": [
    "start = time.time()\n",
    "imp = IterativeImputer(estimator = LinearRegression(), max_iter=200, tol=1e-10\n",
    "                    , n_nearest_features = 10 ,skip_complete = True, random_state = 1004, min_value = 0)\n",
    "imp.fit(train_for_impute)\n",
    "end = time.time()\n",
    "print(datetime.timedelta(seconds = end-start))"
   ]
  },
  {
   "cell_type": "code",
   "execution_count": 51,
   "id": "49d12e0b",
   "metadata": {},
   "outputs": [],
   "source": [
    "imp_train = imp.transform(train_full.drop(columns = drop_columns))\n",
    "imp_valid = imp.transform(valid_full.drop(columns = drop_columns))"
   ]
  },
  {
   "cell_type": "code",
   "execution_count": 52,
   "id": "62dfb5bb",
   "metadata": {},
   "outputs": [],
   "source": [
    "imp_train = pd.DataFrame(columns = train_for_impute_col_name, index = train_full.index, data = imp_train)\n",
    "imp_valid = pd.DataFrame(columns = train_for_impute_col_name, index = valid_full.index, data = imp_valid)"
   ]
  },
  {
   "cell_type": "code",
   "execution_count": 53,
   "id": "f3111e30",
   "metadata": {},
   "outputs": [],
   "source": [
    "imp_train =  pd.concat([imp_train, train_full.loc[:,drop_columns]])\n",
    "imp_valid = pd.concat([imp_valid, valid_full.loc[:, drop_columns]])"
   ]
  },
  {
   "cell_type": "code",
   "execution_count": 54,
   "id": "5506ac4b",
   "metadata": {},
   "outputs": [],
   "source": [
    "imp_train.to_pickle('./결측치처리data/train_impute_lr_y.pkl')\n",
    "imp_valid.to_pickle('./결측치처리data/valid_impute_lr_y.pkl')"
   ]
  },
  {
   "cell_type": "code",
   "execution_count": 55,
   "id": "53cfe194",
   "metadata": {},
   "outputs": [
    {
     "data": {
      "text/plain": [
       "32"
      ]
     },
     "execution_count": 55,
     "metadata": {},
     "output_type": "execute_result"
    }
   ],
   "source": [
    "del imp\n",
    "del imp_train\n",
    "del imp_valid\n",
    "gc.collect()"
   ]
  },
  {
   "cell_type": "code",
   "execution_count": null,
   "id": "100da79b",
   "metadata": {},
   "outputs": [],
   "source": []
  },
  {
   "cell_type": "markdown",
   "id": "5f1f04e6",
   "metadata": {},
   "source": [
    "- extratree (n_nearest_features = None)"
   ]
  },
  {
   "cell_type": "code",
   "execution_count": null,
   "id": "e60b15a3",
   "metadata": {},
   "outputs": [],
   "source": [
    "start = time.time()\n",
    "et = ExtraTreesRegressor(n_estimators=10, random_state=1004)\n",
    "imp = IterativeImputer(estimator = et, max_iter=200, tol=1e-10\n",
    "                    ,skip_complete = True, random_state = 1004, min_value = 0)\n",
    "imp.fit(train_for_impute)\n",
    "end = time.time()\n",
    "print(datetime.timedelta(seconds = end-start))"
   ]
  },
  {
   "cell_type": "code",
   "execution_count": null,
   "id": "6209c866",
   "metadata": {},
   "outputs": [],
   "source": [
    "imp_train = imp.transform(train_full.drop(columns = drop_columns))\n",
    "imp_valid = imp.transform(valid_full.drop(columns = drop_columns))"
   ]
  },
  {
   "cell_type": "code",
   "execution_count": null,
   "id": "ff569a65",
   "metadata": {},
   "outputs": [],
   "source": [
    "imp_train = pd.DataFrame(columns = train_for_impute_col_name, index = train_full.index, data = imp_train)\n",
    "imp_valid = pd.DataFrame(columns = train_for_impute_col_name, index = valid_full.index, data = imp_valid)"
   ]
  },
  {
   "cell_type": "code",
   "execution_count": null,
   "id": "2e634aac",
   "metadata": {},
   "outputs": [],
   "source": [
    "imp_train =  pd.concat([imp_train, train_full.loc[:,drop_columns]])\n",
    "imp_valid = pd.concat([imp_valid, valid_full.loc[:, drop_columns]])"
   ]
  },
  {
   "cell_type": "code",
   "execution_count": null,
   "id": "56a72f41",
   "metadata": {},
   "outputs": [],
   "source": [
    "imp_train.to_pickle('./결측치처리data/train_impute_extra.pkl')\n",
    "imp_valid.to_pickle('./결측치처리data/valid_impute_extra.pkl')"
   ]
  },
  {
   "cell_type": "code",
   "execution_count": null,
   "id": "601e40b2",
   "metadata": {},
   "outputs": [],
   "source": [
    "del et\n",
    "del imp\n",
    "del imp_train\n",
    "del imp_valid\n",
    "gc.collect()"
   ]
  },
  {
   "cell_type": "code",
   "execution_count": null,
   "id": "e46dbe80",
   "metadata": {},
   "outputs": [],
   "source": []
  }
 ],
 "metadata": {
  "kernelspec": {
   "display_name": "Python 3 (ipykernel)",
   "language": "python",
   "name": "python3"
  },
  "language_info": {
   "codemirror_mode": {
    "name": "ipython",
    "version": 3
   },
   "file_extension": ".py",
   "mimetype": "text/x-python",
   "name": "python",
   "nbconvert_exporter": "python",
   "pygments_lexer": "ipython3",
   "version": "3.8.8"
  }
 },
 "nbformat": 4,
 "nbformat_minor": 5
}
